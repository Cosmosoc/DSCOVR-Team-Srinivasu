{
 "cells": [
  {
   "cell_type": "code",
   "execution_count": 1,
   "id": "06b50ee2",
   "metadata": {},
   "outputs": [],
   "source": [
    "from sklearn.metrics import accuracy_score, log_loss\n",
    "from sklearn.preprocessing import StandardScaler\n",
    "from sklearn.metrics import accuracy_score, classification_report\n",
    "from keras.models import Sequential\n",
    "from keras.layers import LSTM, Dense"
   ]
  },
  {
   "cell_type": "code",
   "execution_count": 3,
   "id": "3f215ff4",
   "metadata": {},
   "outputs": [],
   "source": [
    "import tensorflow as tf\n",
    "from sklearn.model_selection import train_test_split\n",
    "from keras import layers, models\n",
    "import pandas as pd\n",
    "import numpy as np"
   ]
  },
  {
   "cell_type": "code",
   "execution_count": 22,
   "id": "675663a7",
   "metadata": {},
   "outputs": [],
   "source": [
    "# sequence_length = 180\n",
    "# num_features_time_series = 3\n",
    "# input_time_series = tf.keras.layers.Input(shape=(sequence_length, num_features_time_series)) \n",
    "# lstm_layer = LSTM(64)(input_time_series)  \n",
    "# output_time_series = Dense(32, activation='relu')(lstm_layer)\n",
    "# num_features_numerical = 29\n",
    "# input_numerical = tf.keras.layers.Input(shape=(num_features_numerical,))\n",
    "# dense_layer = Dense(64, activation='relu')(input_numerical)  \n",
    "# output_numerical = Dense(32, activation='relu')(dense_layer)\n",
    "# merged = tf.keras.layers.concatenate([output_time_series, output_numerical])\n",
    "# output = tf.keras.layers.Dense(1, activation='relu')(merged)\n",
    "\n",
    "# Supermodel = tf.keras.Model(inputs=[input_time_series, input_numerical], outputs=output)\n",
    "\n",
    "# Supermodel.compile(optimizer='adam', loss='mse', metrics=['accuracy'])"
   ]
  },
  {
   "cell_type": "code",
   "execution_count": 117,
   "id": "009ca852",
   "metadata": {},
   "outputs": [],
   "source": [
    "df22 = pd.read_csv('Astro_2022_new.csv')\n",
    "df21 = pd.read_csv('Astro_2021_new.csv')"
   ]
  },
  {
   "cell_type": "code",
   "execution_count": 118,
   "id": "cef04bd3",
   "metadata": {},
   "outputs": [],
   "source": [
    "df = pd.concat([df22, df21])\n",
    "del df22\n",
    "del df21"
   ]
  },
  {
   "cell_type": "code",
   "execution_count": 119,
   "id": "f9dbb5d7",
   "metadata": {},
   "outputs": [],
   "source": [
    "num = []\n",
    "for i in range(1, 33):# x, y, x d0 to d28\n",
    "    num.append(i)\n",
    "X = df.iloc[:, num]"
   ]
  },
  {
   "cell_type": "code",
   "execution_count": 120,
   "id": "d10f0100",
   "metadata": {},
   "outputs": [],
   "source": [
    "scaler = StandardScaler()\n",
    "scaler.fit(X)\n",
    "standardized_data = scaler.transform(X)"
   ]
  },
  {
   "cell_type": "code",
   "execution_count": 40,
   "id": "4310c2f7",
   "metadata": {},
   "outputs": [
    {
     "data": {
      "text/plain": [
       "32"
      ]
     },
     "execution_count": 40,
     "metadata": {},
     "output_type": "execute_result"
    }
   ],
   "source": [
    "# len(standardized_data[0])"
   ]
  },
  {
   "cell_type": "code",
   "execution_count": 41,
   "id": "0f3620f9",
   "metadata": {},
   "outputs": [
    {
     "data": {
      "text/plain": [
       "29"
      ]
     },
     "execution_count": 41,
     "metadata": {},
     "output_type": "execute_result"
    }
   ],
   "source": [
    "# columns = standardized_data[:, 3:]\n",
    "# len(columns[0])"
   ]
  },
  {
   "cell_type": "code",
   "execution_count": 121,
   "id": "d0a376da",
   "metadata": {},
   "outputs": [],
   "source": [
    "\n",
    "# X_train_time_series = df.iloc[:,[1,2,3]].values\n",
    "X_train_time_series = standardized_data[:, 0:3]\n",
    "X_train_time_series = X_train_time_series.reshape(-1, sequence_length, num_features_time_series)"
   ]
  },
  {
   "cell_type": "code",
   "execution_count": 43,
   "id": "2f935474",
   "metadata": {},
   "outputs": [],
   "source": [
    "# num = []\n",
    "# for i in range(4, 33):\n",
    "#     num.append(i)\n",
    "# X_train_numerical = df.iloc[:,num].values\n",
    "X_train_numerical = standardized_data[:,3:]"
   ]
  },
  {
   "cell_type": "code",
   "execution_count": 122,
   "id": "e1690d15",
   "metadata": {},
   "outputs": [],
   "source": [
    "y_train = df.iloc[:, -2].values\n",
    "# y_train_encoded = tf.keras.utils.to_categorical(y_train, num_classes=10)"
   ]
  },
  {
   "cell_type": "code",
   "execution_count": 123,
   "id": "5890a568",
   "metadata": {},
   "outputs": [
    {
     "data": {
      "text/plain": [
       "array([2.333, 2.333, 2.333, ..., 1.   , 1.   , 1.   ])"
      ]
     },
     "execution_count": 123,
     "metadata": {},
     "output_type": "execute_result"
    }
   ],
   "source": [
    "y_train"
   ]
  },
  {
   "cell_type": "code",
   "execution_count": 124,
   "id": "f146885f",
   "metadata": {},
   "outputs": [],
   "source": [
    "import tensorflow as tf\n",
    "from tensorflow.keras.layers import Input, LSTM, Dense, concatenate\n",
    "\n",
    "sequence_length = 180\n",
    "num_features_time_series = 3\n",
    "input_time_series = Input(shape=(sequence_length, num_features_time_series))\n",
    "lstm_layer = LSTM(64)(input_time_series)\n",
    "output_time_series = Dense(32, activation='relu')(lstm_layer)\n",
    "\n",
    "num_features_numerical = 29\n",
    "input_numerical = Input(shape=(num_features_numerical,))\n",
    "dense_layer = Dense(64, activation='relu')(input_numerical)\n",
    "output_numerical = Dense(32, activation='relu')(dense_layer)\n",
    "\n",
    "merged = concatenate([output_time_series, output_numerical])\n",
    "output = Dense(1, activation='relu')(merged)\n",
    "\n",
    "Supermodel = tf.keras.Model(inputs=[input_time_series, input_numerical], outputs=output)\n",
    "\n",
    "Supermodel.compile(optimizer='adam', loss='mse', metrics=['mse'])\n"
   ]
  },
  {
   "cell_type": "code",
   "execution_count": 114,
   "id": "a4232df3",
   "metadata": {},
   "outputs": [],
   "source": [
    "# XX = X_train_time_series + X_train_numerical\n",
    "# YY = y_train"
   ]
  },
  {
   "cell_type": "code",
   "execution_count": 115,
   "id": "034e9f01",
   "metadata": {},
   "outputs": [],
   "source": [
    "# print(len(XX))\n",
    "# len(YY)"
   ]
  },
  {
   "cell_type": "code",
   "execution_count": 116,
   "id": "70f87122",
   "metadata": {},
   "outputs": [],
   "source": [
    "# x_train, x_test, y_train, y_test= train_test_split(XX, YY, test_size= 0.2, random_state=100)"
   ]
  },
  {
   "cell_type": "code",
   "execution_count": 125,
   "id": "d79fb657",
   "metadata": {},
   "outputs": [
    {
     "name": "stdout",
     "output_type": "stream",
     "text": [
      "Epoch 1/10\n",
      "42/42 [==============================] - 8s 114ms/step - loss: 1.7701 - mse: 1.7701 - val_loss: 0.8401 - val_mse: 0.8401\n",
      "Epoch 2/10\n",
      "42/42 [==============================] - 4s 106ms/step - loss: 1.5756 - mse: 1.5756 - val_loss: 0.7935 - val_mse: 0.7935\n",
      "Epoch 3/10\n",
      "42/42 [==============================] - 4s 106ms/step - loss: 1.4960 - mse: 1.4960 - val_loss: 0.8059 - val_mse: 0.8059\n",
      "Epoch 4/10\n",
      "42/42 [==============================] - 5s 108ms/step - loss: 1.4296 - mse: 1.4296 - val_loss: 0.8490 - val_mse: 0.8490\n",
      "Epoch 5/10\n",
      "42/42 [==============================] - 5s 108ms/step - loss: 1.3661 - mse: 1.3661 - val_loss: 0.9176 - val_mse: 0.9176\n",
      "Epoch 6/10\n",
      "42/42 [==============================] - 5s 110ms/step - loss: 1.3120 - mse: 1.3120 - val_loss: 0.8197 - val_mse: 0.8197\n",
      "Epoch 7/10\n",
      "42/42 [==============================] - 5s 109ms/step - loss: 1.2515 - mse: 1.2515 - val_loss: 0.9440 - val_mse: 0.9440\n",
      "Epoch 8/10\n",
      "42/42 [==============================] - 5s 110ms/step - loss: 1.2190 - mse: 1.2190 - val_loss: 1.2571 - val_mse: 1.2571\n",
      "Epoch 9/10\n",
      "42/42 [==============================] - 5s 111ms/step - loss: 1.1976 - mse: 1.1976 - val_loss: 0.8145 - val_mse: 0.8145\n",
      "Epoch 10/10\n",
      "42/42 [==============================] - 5s 112ms/step - loss: 1.1410 - mse: 1.1410 - val_loss: 0.9073 - val_mse: 0.9073\n"
     ]
    },
    {
     "data": {
      "text/plain": [
       "<keras.callbacks.History at 0x1bab703a5d0>"
      ]
     },
     "execution_count": 125,
     "metadata": {},
     "output_type": "execute_result"
    }
   ],
   "source": [
    "Supermodel.fit(\n",
    "    [X_train_time_series, X_train_numerical],\n",
    "    y_train,\n",
    "    epochs=10,\n",
    "    batch_size=128,\n",
    "    validation_split=0.1\n",
    ")"
   ]
  },
  {
   "cell_type": "code",
   "execution_count": 56,
   "id": "dc0c5179",
   "metadata": {},
   "outputs": [],
   "source": [
    "# import tensorflow as tf\n",
    "# from tensorflow.keras.layers import Input, LSTM, Dense, concatenate\n",
    "\n",
    "# sequence_length = 180\n",
    "# num_features_time_series = 3\n",
    "# input_time_series = Input(shape=(sequence_length, num_features_time_series))\n",
    "# lstm_layer = LSTM(64)(input_time_series)\n",
    "# output_time_series = Dense(32, activation='relu')(lstm_layer)\n",
    "\n",
    "# num_features_numerical = 29\n",
    "# input_numerical = Input(shape=(num_features_numerical,))\n",
    "# dense_layer = Dense(64, activation='relu')(input_numerical)\n",
    "# output_numerical = Dense(32, activation='relu')(dense_layer)\n",
    "\n",
    "# merged = concatenate([output_time_series, output_numerical])\n",
    "# output = Dense(1, activation='sigmoid')(merged)\n",
    "\n",
    "# Mmodel = tf.keras.Model(inputs=[input_time_series, input_numerical], outputs=output)\n",
    "\n",
    "# Mmodel.compile(optimizer='adam', loss='mse', metrics=['accuracy'])"
   ]
  },
  {
   "cell_type": "code",
   "execution_count": 57,
   "id": "5fd07d44",
   "metadata": {},
   "outputs": [],
   "source": [
    "# y_bi = df.iloc[:, -1].values"
   ]
  },
  {
   "cell_type": "code",
   "execution_count": 134,
   "id": "82eec9a5",
   "metadata": {},
   "outputs": [],
   "source": [
    "# Mmodel.fit(\n",
    "#     [X_train_time_series, X_train_numerical],\n",
    "#     y_bi,\n",
    "#     epochs=10,\n",
    "#     batch_size=128,\n",
    "#     validation_split=0.1\n",
    "# )"
   ]
  },
  {
   "cell_type": "code",
   "execution_count": 61,
   "id": "61198df9",
   "metadata": {},
   "outputs": [],
   "source": [
    "# from sklearn.utils import resample"
   ]
  },
  {
   "cell_type": "code",
   "execution_count": 126,
   "id": "c41ab68f",
   "metadata": {},
   "outputs": [],
   "source": [
    "# no = df[df.iloc[:,-1] == 0]\n",
    "# yes = df[df.iloc[:,-1] == 1]\n",
    "# yes_oversampled = resample(yes, replace=True, n_samples=len(no), random_state=123)\n",
    "# df = pd.concat([no, yes_oversampled])"
   ]
  },
  {
   "cell_type": "code",
   "execution_count": 127,
   "id": "916d8aa4",
   "metadata": {},
   "outputs": [],
   "source": [
    "# print(len(no))"
   ]
  },
  {
   "cell_type": "code",
   "execution_count": 128,
   "id": "aac15b7b",
   "metadata": {},
   "outputs": [],
   "source": [
    "# nx = no.iloc[:1041120]\n",
    "# print(len(nx))"
   ]
  },
  {
   "cell_type": "code",
   "execution_count": 129,
   "id": "1989416c",
   "metadata": {},
   "outputs": [],
   "source": [
    "# len(df)\n",
    "# 1041239 - 119"
   ]
  },
  {
   "cell_type": "code",
   "execution_count": 130,
   "id": "79c4001c",
   "metadata": {},
   "outputs": [],
   "source": [
    "# print(len(yes_oversampled))//"
   ]
  },
  {
   "cell_type": "code",
   "execution_count": 131,
   "id": "6f3d20e8",
   "metadata": {},
   "outputs": [],
   "source": [
    "# yex_oversampled = yes_oversampled.iloc[:1041120]\n",
    "# print(len(yex_oversampled))"
   ]
  },
  {
   "cell_type": "code",
   "execution_count": 132,
   "id": "11edf7a9",
   "metadata": {},
   "outputs": [],
   "source": [
    "# data = {'A': [1, 2, 3], 'B': [4, 5, 6]}\n",
    "# df = pd.DataFrame(data)\n",
    "\n",
    "# # Drop the last row\n",
    "# df = df.drop(df.index[-1])\n",
    "\n",
    "# print(df)\n",
    "# 1041239 % 180"
   ]
  },
  {
   "cell_type": "code",
   "execution_count": 133,
   "id": "e0f467de",
   "metadata": {},
   "outputs": [],
   "source": [
    "# df = pd.concat([nx, yex_oversampled])\n",
    "# len(df) % 180"
   ]
  },
  {
   "cell_type": "code",
   "execution_count": 112,
   "id": "08990ddc",
   "metadata": {},
   "outputs": [],
   "source": [
    "# import matplotlib.pyplot as plt"
   ]
  },
  {
   "cell_type": "code",
   "execution_count": 111,
   "id": "446bf876",
   "metadata": {},
   "outputs": [],
   "source": [
    "# fig = plt.figure(figsize = (8,5))\n",
    "# df.RainTomorrow.value_counts(normalize = True).plot(kind='bar', color= ['skyblue','navy'], alpha = 0.9, rot=0)\n",
    "# plt.title('RainTomorrow Indicator No(0) and Yes(1) after Oversampling ')\n",
    "# plt.show()"
   ]
  },
  {
   "cell_type": "code",
   "execution_count": 110,
   "id": "8999af3e",
   "metadata": {},
   "outputs": [],
   "source": [
    "# num = []\n",
    "# for i in range(1, 33):# x, y, x d0 to d28\n",
    "#     num.append(i)\n",
    "# X = df.iloc[:, num]\n",
    "\n",
    "# scaler = StandardScaler()\n",
    "# scaler.fit(X)\n",
    "# standardized_data = scaler.transform(X)\n",
    "\n",
    "# X_train_time_series = standardized_data[:, 0:3]\n",
    "# X_train_time_series = X_train_time_series.reshape(-1, sequence_length, num_features_time_series)\n",
    "\n",
    "# X_train_numerical = standardized_data[:,3:]\n",
    "\n",
    "# y_train = df.iloc[:, -1].values"
   ]
  },
  {
   "cell_type": "code",
   "execution_count": 109,
   "id": "b6a59b47",
   "metadata": {},
   "outputs": [],
   "source": [
    "# Mmodel.fit(\n",
    "#     [X_train_time_series, X_train_numerical],\n",
    "#     y_train,\n",
    "#     epochs=10,\n",
    "#     batch_size=128,\n",
    "#     validation_split=0.1\n",
    "# )"
   ]
  },
  {
   "cell_type": "code",
   "execution_count": 106,
   "id": "01565c38",
   "metadata": {},
   "outputs": [],
   "source": [
    "# no = df[df.iloc[:,-1] == 0]\n",
    "# yes = df[df.iloc[:,-1] == 1]\n",
    "# print(len(no))\n",
    "# len(yes)"
   ]
  },
  {
   "cell_type": "code",
   "execution_count": null,
   "id": "c4104da4",
   "metadata": {},
   "outputs": [],
   "source": []
  }
 ],
 "metadata": {
  "kernelspec": {
   "display_name": "Python 3 (ipykernel)",
   "language": "python",
   "name": "python3"
  },
  "language_info": {
   "codemirror_mode": {
    "name": "ipython",
    "version": 3
   },
   "file_extension": ".py",
   "mimetype": "text/x-python",
   "name": "python",
   "nbconvert_exporter": "python",
   "pygments_lexer": "ipython3",
   "version": "3.11.3"
  }
 },
 "nbformat": 4,
 "nbformat_minor": 5
}
