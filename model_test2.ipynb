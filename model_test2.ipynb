{
 "cells": [
  {
   "cell_type": "code",
   "execution_count": 8,
   "metadata": {},
   "outputs": [],
   "source": [
    "from sklearn.metrics import accuracy_score\n",
    "from sklearn.preprocessing import StandardScaler\n",
    "from sklearn.model_selection import train_test_split\n",
    "from keras.models import Sequential\n",
    "from keras.layers import LSTM, Dense, TimeDistributed, BatchNormalization\n",
    "import pandas as pd\n",
    "import numpy as np\n",
    "from sklearn.metrics import mean_squared_error"
   ]
  },
  {
   "cell_type": "code",
   "execution_count": 3,
   "metadata": {},
   "outputs": [],
   "source": [
    "df22 = pd.read_csv('Astro_2022_new.csv')\n",
    "df21 = pd.read_csv('Astro_2021_new.csv')\n",
    "df = pd.concat([df22, df21])\n",
    "del df22\n",
    "del df21"
   ]
  },
  {
   "cell_type": "code",
   "execution_count": 4,
   "metadata": {},
   "outputs": [],
   "source": [
    "num = list(range(1, 31))\n",
    "X = df.iloc[:, num]\n",
    "y = df.iloc[:, -2]"
   ]
  },
  {
   "cell_type": "code",
   "execution_count": 5,
   "metadata": {},
   "outputs": [],
   "source": [
    "scaler = StandardScaler()\n",
    "X = scaler.fit_transform(X)"
   ]
  },
  {
   "cell_type": "code",
   "execution_count": 6,
   "metadata": {},
   "outputs": [],
   "source": [
    "sequence_length = 180\n",
    "X = X.reshape(-1, sequence_length, 30)\n",
    "y = y.values.reshape(-1, sequence_length, 1)\n",
    "X_train, X_test, y_train, y_test = train_test_split(X, y, test_size=0.2, random_state=42)"
   ]
  },
  {
   "cell_type": "code",
   "execution_count": 6,
   "metadata": {},
   "outputs": [
    {
     "data": {
      "text/plain": [
       "4672"
      ]
     },
     "execution_count": 6,
     "metadata": {},
     "output_type": "execute_result"
    }
   ],
   "source": [
    "len(X_train)"
   ]
  },
  {
   "cell_type": "code",
   "execution_count": 7,
   "metadata": {},
   "outputs": [
    {
     "data": {
      "text/plain": [
       "4672"
      ]
     },
     "execution_count": 7,
     "metadata": {},
     "output_type": "execute_result"
    }
   ],
   "source": [
    "len(y_train)"
   ]
  },
  {
   "cell_type": "code",
   "execution_count": 18,
   "metadata": {},
   "outputs": [],
   "source": [
    "sequence_length = 180 \n",
    "model = Sequential()\n",
    "model.add(LSTM(30, input_shape=(sequence_length, 30), return_sequences=True))\n",
    "model.add(LSTM(25, return_sequences=True))\n",
    "model.add(LSTM(20, return_sequences=True))\n",
    "model.add(LSTM(15, return_sequences=True))\n",
    "model.add(LSTM(10, return_sequences=True))\n",
    "model.add(LSTM(5, return_sequences=True))\n",
    "model.add(TimeDistributed(Dense(1, activation='relu')))\n",
    "\n",
    "\n",
    "model.compile(loss='mse', optimizer='adam', metrics=['accuracy'])"
   ]
  },
  {
   "cell_type": "code",
   "execution_count": 19,
   "metadata": {
    "collapsed": true
   },
   "outputs": [
    {
     "name": "stdout",
     "output_type": "stream",
     "text": [
      "Epoch 1/30\n",
      "117/117 [==============================] - 48s 335ms/step - loss: 1.9772 - accuracy: 0.0922 - val_loss: 1.5634 - val_accuracy: 0.0647\n",
      "Epoch 2/30\n",
      "117/117 [==============================] - 39s 338ms/step - loss: 1.5564 - accuracy: 0.0851 - val_loss: 1.4910 - val_accuracy: 0.0846\n",
      "Epoch 3/30\n",
      "117/117 [==============================] - 40s 344ms/step - loss: 1.4580 - accuracy: 0.0797 - val_loss: 1.3469 - val_accuracy: 0.0627\n",
      "Epoch 4/30\n",
      "117/117 [==============================] - 44s 372ms/step - loss: 1.2990 - accuracy: 0.0802 - val_loss: 1.1615 - val_accuracy: 0.0689\n",
      "Epoch 5/30\n",
      "117/117 [==============================] - 42s 355ms/step - loss: 1.1440 - accuracy: 0.0978 - val_loss: 1.0603 - val_accuracy: 0.1441\n",
      "Epoch 6/30\n",
      "117/117 [==============================] - 42s 360ms/step - loss: 1.0827 - accuracy: 0.1235 - val_loss: 1.0254 - val_accuracy: 0.1085\n",
      "Epoch 7/30\n",
      "117/117 [==============================] - 41s 350ms/step - loss: 1.0444 - accuracy: 0.1310 - val_loss: 0.9954 - val_accuracy: 0.1049\n",
      "Epoch 8/30\n",
      "117/117 [==============================] - 51s 439ms/step - loss: 0.9910 - accuracy: 0.1391 - val_loss: 1.2274 - val_accuracy: 0.0665\n",
      "Epoch 9/30\n",
      "117/117 [==============================] - 52s 446ms/step - loss: 1.0348 - accuracy: 0.1353 - val_loss: 0.9591 - val_accuracy: 0.1174\n",
      "Epoch 10/30\n",
      "117/117 [==============================] - 52s 446ms/step - loss: 1.0064 - accuracy: 0.1331 - val_loss: 0.9471 - val_accuracy: 0.1214\n",
      "Epoch 11/30\n",
      "117/117 [==============================] - 52s 444ms/step - loss: 0.9485 - accuracy: 0.1502 - val_loss: 0.9340 - val_accuracy: 0.1321\n",
      "Epoch 12/30\n",
      "117/117 [==============================] - 49s 416ms/step - loss: 0.9459 - accuracy: 0.1478 - val_loss: 0.9493 - val_accuracy: 0.1049\n",
      "Epoch 13/30\n",
      "117/117 [==============================] - 45s 387ms/step - loss: 0.9294 - accuracy: 0.1489 - val_loss: 0.9087 - val_accuracy: 0.1221\n",
      "Epoch 14/30\n",
      "117/117 [==============================] - 45s 387ms/step - loss: 0.8904 - accuracy: 0.1682 - val_loss: 0.8978 - val_accuracy: 0.1623\n",
      "Epoch 15/30\n",
      "117/117 [==============================] - 47s 398ms/step - loss: 0.8651 - accuracy: 0.1695 - val_loss: 0.8713 - val_accuracy: 0.1665\n",
      "Epoch 16/30\n",
      "117/117 [==============================] - 44s 379ms/step - loss: 0.8688 - accuracy: 0.1708 - val_loss: 0.8783 - val_accuracy: 0.1092\n",
      "Epoch 17/30\n",
      "117/117 [==============================] - 50s 426ms/step - loss: 0.8709 - accuracy: 0.1641 - val_loss: 0.8761 - val_accuracy: 0.1559\n",
      "Epoch 18/30\n",
      "117/117 [==============================] - 64s 545ms/step - loss: 0.8454 - accuracy: 0.1749 - val_loss: 0.8536 - val_accuracy: 0.1866\n",
      "Epoch 19/30\n",
      "117/117 [==============================] - 81s 691ms/step - loss: 0.8231 - accuracy: 0.1736 - val_loss: 0.8615 - val_accuracy: 0.1943\n",
      "Epoch 20/30\n",
      "117/117 [==============================] - 75s 641ms/step - loss: 0.8026 - accuracy: 0.1808 - val_loss: 0.7988 - val_accuracy: 0.1878\n",
      "Epoch 21/30\n",
      "117/117 [==============================] - 80s 681ms/step - loss: 0.7621 - accuracy: 0.1901 - val_loss: 0.7968 - val_accuracy: 0.1586\n",
      "Epoch 22/30\n",
      "117/117 [==============================] - 74s 634ms/step - loss: 0.7294 - accuracy: 0.1890 - val_loss: 0.7807 - val_accuracy: 0.1672\n",
      "Epoch 23/30\n",
      "117/117 [==============================] - 79s 673ms/step - loss: 0.7810 - accuracy: 0.1815 - val_loss: 0.8439 - val_accuracy: 0.0943\n",
      "Epoch 24/30\n",
      "117/117 [==============================] - 77s 663ms/step - loss: 0.7869 - accuracy: 0.1682 - val_loss: 0.7870 - val_accuracy: 0.1756\n",
      "Epoch 25/30\n",
      "117/117 [==============================] - 80s 686ms/step - loss: 0.7365 - accuracy: 0.1865 - val_loss: 0.7780 - val_accuracy: 0.1941\n",
      "Epoch 26/30\n",
      "117/117 [==============================] - 75s 645ms/step - loss: 0.7134 - accuracy: 0.1903 - val_loss: 0.7638 - val_accuracy: 0.1675\n",
      "Epoch 27/30\n",
      "117/117 [==============================] - 156s 1s/step - loss: 0.7000 - accuracy: 0.1961 - val_loss: 0.7661 - val_accuracy: 0.1791\n",
      "Epoch 28/30\n",
      "117/117 [==============================] - 58s 495ms/step - loss: 0.6925 - accuracy: 0.1980 - val_loss: 0.7365 - val_accuracy: 0.1751\n",
      "Epoch 29/30\n",
      "117/117 [==============================] - 41s 351ms/step - loss: 0.6586 - accuracy: 0.1986 - val_loss: 0.7357 - val_accuracy: 0.1815\n",
      "Epoch 30/30\n",
      "117/117 [==============================] - 40s 344ms/step - loss: 0.6346 - accuracy: 0.2033 - val_loss: 0.7205 - val_accuracy: 0.1871\n"
     ]
    },
    {
     "data": {
      "text/plain": [
       "<keras.callbacks.History at 0x1941ee07a90>"
      ]
     },
     "execution_count": 19,
     "metadata": {},
     "output_type": "execute_result"
    }
   ],
   "source": [
    "\n",
    "\n",
    "model.fit(X_train, y_train, epochs=30, batch_size=32, validation_split=0.2)"
   ]
  },
  {
   "cell_type": "code",
   "execution_count": 20,
   "metadata": {},
   "outputs": [
    {
     "name": "stdout",
     "output_type": "stream",
     "text": [
      "37/37 [==============================] - 5s 74ms/step\n"
     ]
    },
    {
     "data": {
      "text/plain": [
       "0.7658194326870333"
      ]
     },
     "execution_count": 20,
     "metadata": {},
     "output_type": "execute_result"
    }
   ],
   "source": [
    "\n",
    "y_pred = model.predict(X_test)\n",
    "Yt = y_test.flatten()\n",
    "Yp = y_pred.flatten()\n",
    "mean_squared_error(Yt, Yp)\n",
    "# 0.6983081000037825  30_150\n",
    "# 0.6403868701039471  35_30"
   ]
  },
  {
   "cell_type": "code",
   "execution_count": 21,
   "metadata": {},
   "outputs": [
    {
     "name": "stdout",
     "output_type": "stream",
     "text": [
      "146/146 [==============================] - 11s 74ms/step\n"
     ]
    },
    {
     "data": {
      "text/plain": [
       "0.6348722514056383"
      ]
     },
     "execution_count": 21,
     "metadata": {},
     "output_type": "execute_result"
    }
   ],
   "source": [
    "y_pred = model.predict(X_train)\n",
    "Yt = y_train.flatten()\n",
    "Yp = y_pred.flatten()\n",
    "mean_squared_error(Yt, Yp)\n",
    "# 0.2719781922276506"
   ]
  }
 ],
 "metadata": {
  "kernelspec": {
   "display_name": "Python 3 (ipykernel)",
   "language": "python",
   "name": "python3"
  },
  "language_info": {
   "codemirror_mode": {
    "name": "ipython",
    "version": 3
   },
   "file_extension": ".py",
   "mimetype": "text/x-python",
   "name": "python",
   "nbconvert_exporter": "python",
   "pygments_lexer": "ipython3",
   "version": "3.11.3"
  }
 },
 "nbformat": 4,
 "nbformat_minor": 2
}
