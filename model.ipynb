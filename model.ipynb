{
 "cells": [
  {
   "cell_type": "code",
   "execution_count": 4,
   "id": "d7caf2fe",
   "metadata": {},
   "outputs": [],
   "source": [
    "import pandas as pd\n",
    "import matplotlib.pyplot as plt\n",
    "import numpy as np"
   ]
  },
  {
   "cell_type": "code",
   "execution_count": 84,
   "id": "3e903ab0",
   "metadata": {},
   "outputs": [
    {
     "name": "stderr",
     "output_type": "stream",
     "text": [
      "C:\\Users\\ADMIN\\AppData\\Local\\Temp\\ipykernel_16260\\530378288.py:1: FutureWarning: The argument 'infer_datetime_format' is deprecated and will be removed in a future version. A strict version of it is now the default, see https://pandas.pydata.org/pdeps/0004-consistent-to-datetime-parsing.html. You can safely remove this argument.\n",
      "  data = pd.read_csv(\"dsc_fc_summed_spectra_2022_v01.csv\", \\\n"
     ]
    }
   ],
   "source": [
    "data = pd.read_csv(\"dsc_fc_summed_spectra_2022_v01.csv\", \\\n",
    "delimiter = ',', parse_dates=[0], \\\n",
    "infer_datetime_format=True, na_values='0', \\\n",
    "header = None)"
   ]
  },
  {
   "cell_type": "code",
   "execution_count": 85,
   "id": "10b48bd3",
   "metadata": {
    "collapsed": true
   },
   "outputs": [
    {
     "data": {
      "text/html": [
       "<div>\n",
       "<style scoped>\n",
       "    .dataframe tbody tr th:only-of-type {\n",
       "        vertical-align: middle;\n",
       "    }\n",
       "\n",
       "    .dataframe tbody tr th {\n",
       "        vertical-align: top;\n",
       "    }\n",
       "\n",
       "    .dataframe thead th {\n",
       "        text-align: right;\n",
       "    }\n",
       "</style>\n",
       "<table border=\"1\" class=\"dataframe\">\n",
       "  <thead>\n",
       "    <tr style=\"text-align: right;\">\n",
       "      <th></th>\n",
       "      <th>0</th>\n",
       "      <th>1</th>\n",
       "      <th>2</th>\n",
       "      <th>3</th>\n",
       "      <th>4</th>\n",
       "      <th>5</th>\n",
       "      <th>6</th>\n",
       "      <th>7</th>\n",
       "      <th>8</th>\n",
       "      <th>9</th>\n",
       "      <th>...</th>\n",
       "      <th>44</th>\n",
       "      <th>45</th>\n",
       "      <th>46</th>\n",
       "      <th>47</th>\n",
       "      <th>48</th>\n",
       "      <th>49</th>\n",
       "      <th>50</th>\n",
       "      <th>51</th>\n",
       "      <th>52</th>\n",
       "      <th>53</th>\n",
       "    </tr>\n",
       "  </thead>\n",
       "  <tbody>\n",
       "    <tr>\n",
       "      <th>0</th>\n",
       "      <td>2022-01-01 00:00:00</td>\n",
       "      <td>-6.17170</td>\n",
       "      <td>1.124830</td>\n",
       "      <td>-4.90228</td>\n",
       "      <td>38.0314</td>\n",
       "      <td>0.231726</td>\n",
       "      <td>46.0427</td>\n",
       "      <td>44.9743</td>\n",
       "      <td>55.9143</td>\n",
       "      <td>43.7069</td>\n",
       "      <td>...</td>\n",
       "      <td>NaN</td>\n",
       "      <td>NaN</td>\n",
       "      <td>NaN</td>\n",
       "      <td>NaN</td>\n",
       "      <td>NaN</td>\n",
       "      <td>NaN</td>\n",
       "      <td>NaN</td>\n",
       "      <td>NaN</td>\n",
       "      <td>NaN</td>\n",
       "      <td>NaN</td>\n",
       "    </tr>\n",
       "    <tr>\n",
       "      <th>1</th>\n",
       "      <td>2022-01-01 00:01:00</td>\n",
       "      <td>-6.28883</td>\n",
       "      <td>1.233130</td>\n",
       "      <td>-4.79001</td>\n",
       "      <td>38.3868</td>\n",
       "      <td>0.231726</td>\n",
       "      <td>45.5257</td>\n",
       "      <td>46.2587</td>\n",
       "      <td>55.1428</td>\n",
       "      <td>43.2768</td>\n",
       "      <td>...</td>\n",
       "      <td>NaN</td>\n",
       "      <td>NaN</td>\n",
       "      <td>NaN</td>\n",
       "      <td>NaN</td>\n",
       "      <td>NaN</td>\n",
       "      <td>NaN</td>\n",
       "      <td>NaN</td>\n",
       "      <td>NaN</td>\n",
       "      <td>NaN</td>\n",
       "      <td>NaN</td>\n",
       "    </tr>\n",
       "    <tr>\n",
       "      <th>2</th>\n",
       "      <td>2022-01-01 00:02:00</td>\n",
       "      <td>-6.11811</td>\n",
       "      <td>0.871923</td>\n",
       "      <td>-5.12830</td>\n",
       "      <td>37.5636</td>\n",
       "      <td>0.231726</td>\n",
       "      <td>45.1955</td>\n",
       "      <td>46.8222</td>\n",
       "      <td>55.7484</td>\n",
       "      <td>42.7894</td>\n",
       "      <td>...</td>\n",
       "      <td>NaN</td>\n",
       "      <td>NaN</td>\n",
       "      <td>NaN</td>\n",
       "      <td>NaN</td>\n",
       "      <td>NaN</td>\n",
       "      <td>NaN</td>\n",
       "      <td>NaN</td>\n",
       "      <td>NaN</td>\n",
       "      <td>NaN</td>\n",
       "      <td>NaN</td>\n",
       "    </tr>\n",
       "    <tr>\n",
       "      <th>3</th>\n",
       "      <td>2022-01-01 00:03:00</td>\n",
       "      <td>-6.28704</td>\n",
       "      <td>1.249870</td>\n",
       "      <td>-4.76640</td>\n",
       "      <td>38.1094</td>\n",
       "      <td>0.242084</td>\n",
       "      <td>46.7083</td>\n",
       "      <td>47.1713</td>\n",
       "      <td>53.5380</td>\n",
       "      <td>42.1558</td>\n",
       "      <td>...</td>\n",
       "      <td>NaN</td>\n",
       "      <td>NaN</td>\n",
       "      <td>NaN</td>\n",
       "      <td>NaN</td>\n",
       "      <td>NaN</td>\n",
       "      <td>NaN</td>\n",
       "      <td>NaN</td>\n",
       "      <td>NaN</td>\n",
       "      <td>NaN</td>\n",
       "      <td>NaN</td>\n",
       "    </tr>\n",
       "    <tr>\n",
       "      <th>4</th>\n",
       "      <td>2022-01-01 00:04:00</td>\n",
       "      <td>-6.42125</td>\n",
       "      <td>1.171560</td>\n",
       "      <td>-4.53230</td>\n",
       "      <td>37.5893</td>\n",
       "      <td>0.231726</td>\n",
       "      <td>47.4888</td>\n",
       "      <td>45.3234</td>\n",
       "      <td>54.5404</td>\n",
       "      <td>44.2773</td>\n",
       "      <td>...</td>\n",
       "      <td>NaN</td>\n",
       "      <td>NaN</td>\n",
       "      <td>NaN</td>\n",
       "      <td>NaN</td>\n",
       "      <td>NaN</td>\n",
       "      <td>NaN</td>\n",
       "      <td>NaN</td>\n",
       "      <td>NaN</td>\n",
       "      <td>NaN</td>\n",
       "      <td>NaN</td>\n",
       "    </tr>\n",
       "  </tbody>\n",
       "</table>\n",
       "<p>5 rows × 54 columns</p>\n",
       "</div>"
      ],
      "text/plain": [
       "                   0        1         2        3        4         5        6    \n",
       "0 2022-01-01 00:00:00 -6.17170  1.124830 -4.90228  38.0314  0.231726  46.0427  \\\n",
       "1 2022-01-01 00:01:00 -6.28883  1.233130 -4.79001  38.3868  0.231726  45.5257   \n",
       "2 2022-01-01 00:02:00 -6.11811  0.871923 -5.12830  37.5636  0.231726  45.1955   \n",
       "3 2022-01-01 00:03:00 -6.28704  1.249870 -4.76640  38.1094  0.242084  46.7083   \n",
       "4 2022-01-01 00:04:00 -6.42125  1.171560 -4.53230  37.5893  0.231726  47.4888   \n",
       "\n",
       "        7        8        9   ...  44  45  46  47  48  49  50  51  52  53  \n",
       "0  44.9743  55.9143  43.7069  ... NaN NaN NaN NaN NaN NaN NaN NaN NaN NaN  \n",
       "1  46.2587  55.1428  43.2768  ... NaN NaN NaN NaN NaN NaN NaN NaN NaN NaN  \n",
       "2  46.8222  55.7484  42.7894  ... NaN NaN NaN NaN NaN NaN NaN NaN NaN NaN  \n",
       "3  47.1713  53.5380  42.1558  ... NaN NaN NaN NaN NaN NaN NaN NaN NaN NaN  \n",
       "4  45.3234  54.5404  44.2773  ... NaN NaN NaN NaN NaN NaN NaN NaN NaN NaN  \n",
       "\n",
       "[5 rows x 54 columns]"
      ]
     },
     "execution_count": 85,
     "metadata": {},
     "output_type": "execute_result"
    }
   ],
   "source": [
    "data.head(5)"
   ]
  },
  {
   "cell_type": "code",
   "execution_count": 86,
   "id": "08353df9",
   "metadata": {},
   "outputs": [],
   "source": [
    "l = []\n",
    "l.append(\"time\")\n",
    "l.append(\"x\")\n",
    "l.append(\"y\")\n",
    "l.append(\"z\")\n",
    "i = 4\n",
    "while i < 54:\n",
    "    l.append(\"d\" + str(i - 4))\n",
    "    i += 1"
   ]
  },
  {
   "cell_type": "code",
   "execution_count": 87,
   "id": "75ce3078",
   "metadata": {},
   "outputs": [],
   "source": [
    "data.columns = l"
   ]
  },
  {
   "cell_type": "code",
   "execution_count": 88,
   "id": "86829b00",
   "metadata": {
    "collapsed": true
   },
   "outputs": [
    {
     "data": {
      "text/html": [
       "<div>\n",
       "<style scoped>\n",
       "    .dataframe tbody tr th:only-of-type {\n",
       "        vertical-align: middle;\n",
       "    }\n",
       "\n",
       "    .dataframe tbody tr th {\n",
       "        vertical-align: top;\n",
       "    }\n",
       "\n",
       "    .dataframe thead th {\n",
       "        text-align: right;\n",
       "    }\n",
       "</style>\n",
       "<table border=\"1\" class=\"dataframe\">\n",
       "  <thead>\n",
       "    <tr style=\"text-align: right;\">\n",
       "      <th></th>\n",
       "      <th>time</th>\n",
       "      <th>x</th>\n",
       "      <th>y</th>\n",
       "      <th>z</th>\n",
       "      <th>d0</th>\n",
       "      <th>d1</th>\n",
       "      <th>d2</th>\n",
       "      <th>d3</th>\n",
       "      <th>d4</th>\n",
       "      <th>d5</th>\n",
       "      <th>...</th>\n",
       "      <th>d40</th>\n",
       "      <th>d41</th>\n",
       "      <th>d42</th>\n",
       "      <th>d43</th>\n",
       "      <th>d44</th>\n",
       "      <th>d45</th>\n",
       "      <th>d46</th>\n",
       "      <th>d47</th>\n",
       "      <th>d48</th>\n",
       "      <th>d49</th>\n",
       "    </tr>\n",
       "  </thead>\n",
       "  <tbody>\n",
       "    <tr>\n",
       "      <th>0</th>\n",
       "      <td>2022-01-01 00:00:00</td>\n",
       "      <td>-6.17170</td>\n",
       "      <td>1.124830</td>\n",
       "      <td>-4.90228</td>\n",
       "      <td>38.0314</td>\n",
       "      <td>0.231726</td>\n",
       "      <td>46.0427</td>\n",
       "      <td>44.9743</td>\n",
       "      <td>55.9143</td>\n",
       "      <td>43.7069</td>\n",
       "      <td>...</td>\n",
       "      <td>NaN</td>\n",
       "      <td>NaN</td>\n",
       "      <td>NaN</td>\n",
       "      <td>NaN</td>\n",
       "      <td>NaN</td>\n",
       "      <td>NaN</td>\n",
       "      <td>NaN</td>\n",
       "      <td>NaN</td>\n",
       "      <td>NaN</td>\n",
       "      <td>NaN</td>\n",
       "    </tr>\n",
       "    <tr>\n",
       "      <th>1</th>\n",
       "      <td>2022-01-01 00:01:00</td>\n",
       "      <td>-6.28883</td>\n",
       "      <td>1.233130</td>\n",
       "      <td>-4.79001</td>\n",
       "      <td>38.3868</td>\n",
       "      <td>0.231726</td>\n",
       "      <td>45.5257</td>\n",
       "      <td>46.2587</td>\n",
       "      <td>55.1428</td>\n",
       "      <td>43.2768</td>\n",
       "      <td>...</td>\n",
       "      <td>NaN</td>\n",
       "      <td>NaN</td>\n",
       "      <td>NaN</td>\n",
       "      <td>NaN</td>\n",
       "      <td>NaN</td>\n",
       "      <td>NaN</td>\n",
       "      <td>NaN</td>\n",
       "      <td>NaN</td>\n",
       "      <td>NaN</td>\n",
       "      <td>NaN</td>\n",
       "    </tr>\n",
       "    <tr>\n",
       "      <th>2</th>\n",
       "      <td>2022-01-01 00:02:00</td>\n",
       "      <td>-6.11811</td>\n",
       "      <td>0.871923</td>\n",
       "      <td>-5.12830</td>\n",
       "      <td>37.5636</td>\n",
       "      <td>0.231726</td>\n",
       "      <td>45.1955</td>\n",
       "      <td>46.8222</td>\n",
       "      <td>55.7484</td>\n",
       "      <td>42.7894</td>\n",
       "      <td>...</td>\n",
       "      <td>NaN</td>\n",
       "      <td>NaN</td>\n",
       "      <td>NaN</td>\n",
       "      <td>NaN</td>\n",
       "      <td>NaN</td>\n",
       "      <td>NaN</td>\n",
       "      <td>NaN</td>\n",
       "      <td>NaN</td>\n",
       "      <td>NaN</td>\n",
       "      <td>NaN</td>\n",
       "    </tr>\n",
       "    <tr>\n",
       "      <th>3</th>\n",
       "      <td>2022-01-01 00:03:00</td>\n",
       "      <td>-6.28704</td>\n",
       "      <td>1.249870</td>\n",
       "      <td>-4.76640</td>\n",
       "      <td>38.1094</td>\n",
       "      <td>0.242084</td>\n",
       "      <td>46.7083</td>\n",
       "      <td>47.1713</td>\n",
       "      <td>53.5380</td>\n",
       "      <td>42.1558</td>\n",
       "      <td>...</td>\n",
       "      <td>NaN</td>\n",
       "      <td>NaN</td>\n",
       "      <td>NaN</td>\n",
       "      <td>NaN</td>\n",
       "      <td>NaN</td>\n",
       "      <td>NaN</td>\n",
       "      <td>NaN</td>\n",
       "      <td>NaN</td>\n",
       "      <td>NaN</td>\n",
       "      <td>NaN</td>\n",
       "    </tr>\n",
       "    <tr>\n",
       "      <th>4</th>\n",
       "      <td>2022-01-01 00:04:00</td>\n",
       "      <td>-6.42125</td>\n",
       "      <td>1.171560</td>\n",
       "      <td>-4.53230</td>\n",
       "      <td>37.5893</td>\n",
       "      <td>0.231726</td>\n",
       "      <td>47.4888</td>\n",
       "      <td>45.3234</td>\n",
       "      <td>54.5404</td>\n",
       "      <td>44.2773</td>\n",
       "      <td>...</td>\n",
       "      <td>NaN</td>\n",
       "      <td>NaN</td>\n",
       "      <td>NaN</td>\n",
       "      <td>NaN</td>\n",
       "      <td>NaN</td>\n",
       "      <td>NaN</td>\n",
       "      <td>NaN</td>\n",
       "      <td>NaN</td>\n",
       "      <td>NaN</td>\n",
       "      <td>NaN</td>\n",
       "    </tr>\n",
       "  </tbody>\n",
       "</table>\n",
       "<p>5 rows × 54 columns</p>\n",
       "</div>"
      ],
      "text/plain": [
       "                 time        x         y        z       d0        d1       d2   \n",
       "0 2022-01-01 00:00:00 -6.17170  1.124830 -4.90228  38.0314  0.231726  46.0427  \\\n",
       "1 2022-01-01 00:01:00 -6.28883  1.233130 -4.79001  38.3868  0.231726  45.5257   \n",
       "2 2022-01-01 00:02:00 -6.11811  0.871923 -5.12830  37.5636  0.231726  45.1955   \n",
       "3 2022-01-01 00:03:00 -6.28704  1.249870 -4.76640  38.1094  0.242084  46.7083   \n",
       "4 2022-01-01 00:04:00 -6.42125  1.171560 -4.53230  37.5893  0.231726  47.4888   \n",
       "\n",
       "        d3       d4       d5  ...  d40  d41  d42  d43  d44  d45  d46  d47   \n",
       "0  44.9743  55.9143  43.7069  ...  NaN  NaN  NaN  NaN  NaN  NaN  NaN  NaN  \\\n",
       "1  46.2587  55.1428  43.2768  ...  NaN  NaN  NaN  NaN  NaN  NaN  NaN  NaN   \n",
       "2  46.8222  55.7484  42.7894  ...  NaN  NaN  NaN  NaN  NaN  NaN  NaN  NaN   \n",
       "3  47.1713  53.5380  42.1558  ...  NaN  NaN  NaN  NaN  NaN  NaN  NaN  NaN   \n",
       "4  45.3234  54.5404  44.2773  ...  NaN  NaN  NaN  NaN  NaN  NaN  NaN  NaN   \n",
       "\n",
       "   d48  d49  \n",
       "0  NaN  NaN  \n",
       "1  NaN  NaN  \n",
       "2  NaN  NaN  \n",
       "3  NaN  NaN  \n",
       "4  NaN  NaN  \n",
       "\n",
       "[5 rows x 54 columns]"
      ]
     },
     "execution_count": 88,
     "metadata": {},
     "output_type": "execute_result"
    }
   ],
   "source": [
    "data.head(5)"
   ]
  },
  {
   "cell_type": "code",
   "execution_count": 89,
   "id": "9030e887",
   "metadata": {},
   "outputs": [],
   "source": [
    "d0=data['d0']"
   ]
  },
  {
   "cell_type": "code",
   "execution_count": 90,
   "id": "422a526f",
   "metadata": {},
   "outputs": [
    {
     "data": {
      "text/plain": [
       "0          True\n",
       "1          True\n",
       "2          True\n",
       "3          True\n",
       "4          True\n",
       "          ...  \n",
       "525595    False\n",
       "525596    False\n",
       "525597     True\n",
       "525598     True\n",
       "525599     True\n",
       "Name: d40, Length: 525600, dtype: bool"
      ]
     },
     "execution_count": 90,
     "metadata": {},
     "output_type": "execute_result"
    }
   ],
   "source": [
    "data['d40'].isnull()"
   ]
  },
  {
   "cell_type": "code",
   "execution_count": 91,
   "id": "69cbd23a",
   "metadata": {
    "collapsed": true
   },
   "outputs": [
    {
     "name": "stdout",
     "output_type": "stream",
     "text": [
      "false\n",
      "false\n",
      "false\n",
      "false\n",
      "false\n",
      "false\n",
      "false\n",
      "false\n",
      "false\n",
      "false\n",
      "false\n",
      "false\n",
      "false\n",
      "false\n",
      "false\n",
      "false\n",
      "false\n",
      "false\n",
      "false\n",
      "false\n",
      "false\n",
      "false\n",
      "false\n",
      "false\n",
      "false\n",
      "false\n",
      "false\n",
      "false\n",
      "false\n",
      "false\n",
      "false\n",
      "false\n",
      "false\n",
      "false\n",
      "false\n",
      "false\n",
      "false\n",
      "false\n",
      "false\n",
      "false\n",
      "false\n",
      "false\n",
      "false\n",
      "false\n",
      "false\n",
      "false\n",
      "false\n",
      "false\n",
      "false\n",
      "false\n",
      "false\n",
      "false\n",
      "false\n",
      "false\n"
     ]
    }
   ],
   "source": [
    "for i in data.columns:\n",
    "    j=data[i]\n",
    "    all_values=all(t is None for t in j)\n",
    "    if(all_values):\n",
    "        print(\"true\")\n",
    "    else:\n",
    "        print(\"false\")\n",
    "        "
   ]
  },
  {
   "cell_type": "code",
   "execution_count": 92,
   "id": "b99fc95f",
   "metadata": {},
   "outputs": [],
   "source": [
    "data_value=data['d30'].isnull().sum()"
   ]
  },
  {
   "cell_type": "code",
   "execution_count": 93,
   "id": "2d6d3eee",
   "metadata": {},
   "outputs": [
    {
     "name": "stdout",
     "output_type": "stream",
     "text": [
      "248826\n"
     ]
    }
   ],
   "source": [
    "print(data_value)"
   ]
  },
  {
   "cell_type": "code",
   "execution_count": 94,
   "id": "407d3424",
   "metadata": {
    "collapsed": true
   },
   "outputs": [
    {
     "name": "stdout",
     "output_type": "stream",
     "text": [
      "511816 d0\n",
      "511811 d1\n",
      "511809 d2\n",
      "511809 d3\n",
      "511815 d4\n",
      "511815 d5\n",
      "511814 d6\n",
      "511818 d7\n",
      "508055 d8\n",
      "508056 d9\n",
      "508052 d10\n",
      "508052 d11\n",
      "508053 d12\n",
      "508045 d13\n",
      "507554 d14\n",
      "506977 d15\n",
      "506121 d16\n",
      "503550 d17\n",
      "497484 d18\n",
      "483280 d19\n",
      "475791 d20\n",
      "455825 d21\n",
      "444534 d22\n",
      "427277 d23\n",
      "414369 d24\n",
      "390266 d25\n",
      "373627 d26\n",
      "340148 d27\n",
      "331423 d28\n",
      "282768 d29\n",
      "276774 d30\n",
      "260648 d31\n",
      "216728 d32\n",
      "188251 d33\n",
      "174259 d34\n",
      "120370 d35\n",
      "114891 d36\n",
      "51181 d37\n",
      "45524 d38\n",
      "33830 d39\n",
      "20115 d40\n",
      "11191 d41\n",
      "8416 d42\n",
      "3971 d43\n",
      "3859 d44\n",
      "213 d45\n",
      "139 d46\n",
      "44 d47\n",
      "40 d48\n",
      "35 d49\n"
     ]
    }
   ],
   "source": [
    "for j in range(0, 50):\n",
    "    data_value=data[f\"d{j}\"].isnull()\n",
    "    x = 0\n",
    "    for i in data_value:\n",
    "        if(not i):\n",
    "            x +=1\n",
    "    print(x, f\"d{j}\")"
   ]
  },
  {
   "cell_type": "code",
   "execution_count": 35,
   "id": "585fc1b2",
   "metadata": {
    "collapsed": true
   },
   "outputs": [
    {
     "name": "stdout",
     "output_type": "stream",
     "text": [
      "376.873\n"
     ]
    }
   ],
   "source": [
    "column_name=\"d40\"\n",
    "mode_value=data[column_name].mode()[0]\n",
    "print(mode_value)"
   ]
  },
  {
   "cell_type": "code",
   "execution_count": 36,
   "id": "e16ed6cb",
   "metadata": {},
   "outputs": [
    {
     "name": "stdout",
     "output_type": "stream",
     "text": [
      "322.926\n"
     ]
    }
   ],
   "source": [
    "column_name=\"d41\"\n",
    "mode_value=data[column_name].mode()[0]\n",
    "print(mode_value)"
   ]
  },
  {
   "cell_type": "code",
   "execution_count": 111,
   "id": "d2dde3d2",
   "metadata": {},
   "outputs": [],
   "source": [
    "l=[]\n",
    "for i in range(1, 43):\n",
    "    l.append(f\"d{i}\")"
   ]
  },
  {
   "cell_type": "code",
   "execution_count": 112,
   "id": "22da5eee",
   "metadata": {
    "collapsed": true
   },
   "outputs": [
    {
     "data": {
      "text/plain": [
       "['d1',\n",
       " 'd2',\n",
       " 'd3',\n",
       " 'd4',\n",
       " 'd5',\n",
       " 'd6',\n",
       " 'd7',\n",
       " 'd8',\n",
       " 'd9',\n",
       " 'd10',\n",
       " 'd11',\n",
       " 'd12',\n",
       " 'd13',\n",
       " 'd14',\n",
       " 'd15',\n",
       " 'd16',\n",
       " 'd17',\n",
       " 'd18',\n",
       " 'd19',\n",
       " 'd20',\n",
       " 'd21',\n",
       " 'd22',\n",
       " 'd23',\n",
       " 'd24',\n",
       " 'd25',\n",
       " 'd26',\n",
       " 'd27',\n",
       " 'd28',\n",
       " 'd29',\n",
       " 'd30',\n",
       " 'd31',\n",
       " 'd32',\n",
       " 'd33',\n",
       " 'd34',\n",
       " 'd35',\n",
       " 'd36',\n",
       " 'd37',\n",
       " 'd38',\n",
       " 'd39',\n",
       " 'd40',\n",
       " 'd41',\n",
       " 'd42']"
      ]
     },
     "execution_count": 112,
     "metadata": {},
     "output_type": "execute_result"
    }
   ],
   "source": [
    "l"
   ]
  },
  {
   "cell_type": "code",
   "execution_count": 68,
   "id": "93f579d0",
   "metadata": {},
   "outputs": [
    {
     "data": {
      "text/plain": [
       "376.873"
      ]
     },
     "execution_count": 68,
     "metadata": {},
     "output_type": "execute_result"
    }
   ],
   "source": [
    "# for i in l:\n",
    "mod_value=data['d40'].mode()[0]\n",
    "mod_value"
   ]
  },
  {
   "cell_type": "code",
   "execution_count": 95,
   "id": "8039d40f",
   "metadata": {},
   "outputs": [],
   "source": [
    "data_test=data"
   ]
  },
  {
   "cell_type": "code",
   "execution_count": 101,
   "id": "36c39755",
   "metadata": {},
   "outputs": [],
   "source": [
    "data_test=data_test.drop(columns=['d43','d44','d45','d46','d47','d48','d49'])"
   ]
  },
  {
   "cell_type": "code",
   "execution_count": 102,
   "id": "003eac76",
   "metadata": {
    "collapsed": true
   },
   "outputs": [
    {
     "data": {
      "text/html": [
       "<div>\n",
       "<style scoped>\n",
       "    .dataframe tbody tr th:only-of-type {\n",
       "        vertical-align: middle;\n",
       "    }\n",
       "\n",
       "    .dataframe tbody tr th {\n",
       "        vertical-align: top;\n",
       "    }\n",
       "\n",
       "    .dataframe thead th {\n",
       "        text-align: right;\n",
       "    }\n",
       "</style>\n",
       "<table border=\"1\" class=\"dataframe\">\n",
       "  <thead>\n",
       "    <tr style=\"text-align: right;\">\n",
       "      <th></th>\n",
       "      <th>time</th>\n",
       "      <th>x</th>\n",
       "      <th>y</th>\n",
       "      <th>z</th>\n",
       "      <th>d0</th>\n",
       "      <th>d1</th>\n",
       "      <th>d2</th>\n",
       "      <th>d3</th>\n",
       "      <th>d4</th>\n",
       "      <th>d5</th>\n",
       "      <th>...</th>\n",
       "      <th>d33</th>\n",
       "      <th>d34</th>\n",
       "      <th>d35</th>\n",
       "      <th>d36</th>\n",
       "      <th>d37</th>\n",
       "      <th>d38</th>\n",
       "      <th>d39</th>\n",
       "      <th>d40</th>\n",
       "      <th>d41</th>\n",
       "      <th>d42</th>\n",
       "    </tr>\n",
       "  </thead>\n",
       "  <tbody>\n",
       "    <tr>\n",
       "      <th>0</th>\n",
       "      <td>2022-01-01 00:00:00</td>\n",
       "      <td>-6.17170</td>\n",
       "      <td>1.124830</td>\n",
       "      <td>-4.902280</td>\n",
       "      <td>38.0314</td>\n",
       "      <td>0.231726</td>\n",
       "      <td>46.042700</td>\n",
       "      <td>44.974300</td>\n",
       "      <td>55.91430</td>\n",
       "      <td>43.706900</td>\n",
       "      <td>...</td>\n",
       "      <td>NaN</td>\n",
       "      <td>NaN</td>\n",
       "      <td>NaN</td>\n",
       "      <td>NaN</td>\n",
       "      <td>NaN</td>\n",
       "      <td>NaN</td>\n",
       "      <td>NaN</td>\n",
       "      <td>NaN</td>\n",
       "      <td>NaN</td>\n",
       "      <td>NaN</td>\n",
       "    </tr>\n",
       "    <tr>\n",
       "      <th>1</th>\n",
       "      <td>2022-01-01 00:01:00</td>\n",
       "      <td>-6.28883</td>\n",
       "      <td>1.233130</td>\n",
       "      <td>-4.790010</td>\n",
       "      <td>38.3868</td>\n",
       "      <td>0.231726</td>\n",
       "      <td>45.525700</td>\n",
       "      <td>46.258700</td>\n",
       "      <td>55.14280</td>\n",
       "      <td>43.276800</td>\n",
       "      <td>...</td>\n",
       "      <td>NaN</td>\n",
       "      <td>NaN</td>\n",
       "      <td>NaN</td>\n",
       "      <td>NaN</td>\n",
       "      <td>NaN</td>\n",
       "      <td>NaN</td>\n",
       "      <td>NaN</td>\n",
       "      <td>NaN</td>\n",
       "      <td>NaN</td>\n",
       "      <td>NaN</td>\n",
       "    </tr>\n",
       "    <tr>\n",
       "      <th>2</th>\n",
       "      <td>2022-01-01 00:02:00</td>\n",
       "      <td>-6.11811</td>\n",
       "      <td>0.871923</td>\n",
       "      <td>-5.128300</td>\n",
       "      <td>37.5636</td>\n",
       "      <td>0.231726</td>\n",
       "      <td>45.195500</td>\n",
       "      <td>46.822200</td>\n",
       "      <td>55.74840</td>\n",
       "      <td>42.789400</td>\n",
       "      <td>...</td>\n",
       "      <td>NaN</td>\n",
       "      <td>NaN</td>\n",
       "      <td>NaN</td>\n",
       "      <td>NaN</td>\n",
       "      <td>NaN</td>\n",
       "      <td>NaN</td>\n",
       "      <td>NaN</td>\n",
       "      <td>NaN</td>\n",
       "      <td>NaN</td>\n",
       "      <td>NaN</td>\n",
       "    </tr>\n",
       "    <tr>\n",
       "      <th>3</th>\n",
       "      <td>2022-01-01 00:03:00</td>\n",
       "      <td>-6.28704</td>\n",
       "      <td>1.249870</td>\n",
       "      <td>-4.766400</td>\n",
       "      <td>38.1094</td>\n",
       "      <td>0.242084</td>\n",
       "      <td>46.708300</td>\n",
       "      <td>47.171300</td>\n",
       "      <td>53.53800</td>\n",
       "      <td>42.155800</td>\n",
       "      <td>...</td>\n",
       "      <td>NaN</td>\n",
       "      <td>NaN</td>\n",
       "      <td>NaN</td>\n",
       "      <td>NaN</td>\n",
       "      <td>NaN</td>\n",
       "      <td>NaN</td>\n",
       "      <td>NaN</td>\n",
       "      <td>NaN</td>\n",
       "      <td>NaN</td>\n",
       "      <td>NaN</td>\n",
       "    </tr>\n",
       "    <tr>\n",
       "      <th>4</th>\n",
       "      <td>2022-01-01 00:04:00</td>\n",
       "      <td>-6.42125</td>\n",
       "      <td>1.171560</td>\n",
       "      <td>-4.532300</td>\n",
       "      <td>37.5893</td>\n",
       "      <td>0.231726</td>\n",
       "      <td>47.488800</td>\n",
       "      <td>45.323400</td>\n",
       "      <td>54.54040</td>\n",
       "      <td>44.277300</td>\n",
       "      <td>...</td>\n",
       "      <td>NaN</td>\n",
       "      <td>NaN</td>\n",
       "      <td>NaN</td>\n",
       "      <td>NaN</td>\n",
       "      <td>NaN</td>\n",
       "      <td>NaN</td>\n",
       "      <td>NaN</td>\n",
       "      <td>NaN</td>\n",
       "      <td>NaN</td>\n",
       "      <td>NaN</td>\n",
       "    </tr>\n",
       "    <tr>\n",
       "      <th>...</th>\n",
       "      <td>...</td>\n",
       "      <td>...</td>\n",
       "      <td>...</td>\n",
       "      <td>...</td>\n",
       "      <td>...</td>\n",
       "      <td>...</td>\n",
       "      <td>...</td>\n",
       "      <td>...</td>\n",
       "      <td>...</td>\n",
       "      <td>...</td>\n",
       "      <td>...</td>\n",
       "      <td>...</td>\n",
       "      <td>...</td>\n",
       "      <td>...</td>\n",
       "      <td>...</td>\n",
       "      <td>...</td>\n",
       "      <td>...</td>\n",
       "      <td>...</td>\n",
       "      <td>...</td>\n",
       "      <td>...</td>\n",
       "      <td>...</td>\n",
       "    </tr>\n",
       "    <tr>\n",
       "      <th>525595</th>\n",
       "      <td>2022-12-31 23:55:00</td>\n",
       "      <td>-1.95967</td>\n",
       "      <td>4.958450</td>\n",
       "      <td>-1.202990</td>\n",
       "      <td>44.4151</td>\n",
       "      <td>0.231726</td>\n",
       "      <td>0.231726</td>\n",
       "      <td>5.561450</td>\n",
       "      <td>16.87790</td>\n",
       "      <td>0.231726</td>\n",
       "      <td>...</td>\n",
       "      <td>290.891</td>\n",
       "      <td>363.415</td>\n",
       "      <td>324.876</td>\n",
       "      <td>308.783</td>\n",
       "      <td>263.746</td>\n",
       "      <td>333.977</td>\n",
       "      <td>323.566</td>\n",
       "      <td>363.400</td>\n",
       "      <td>NaN</td>\n",
       "      <td>NaN</td>\n",
       "    </tr>\n",
       "    <tr>\n",
       "      <th>525596</th>\n",
       "      <td>2022-12-31 23:56:00</td>\n",
       "      <td>-1.82694</td>\n",
       "      <td>4.650830</td>\n",
       "      <td>0.351759</td>\n",
       "      <td>38.3516</td>\n",
       "      <td>0.231726</td>\n",
       "      <td>0.231726</td>\n",
       "      <td>17.396800</td>\n",
       "      <td>12.84820</td>\n",
       "      <td>0.231726</td>\n",
       "      <td>...</td>\n",
       "      <td>320.788</td>\n",
       "      <td>409.229</td>\n",
       "      <td>331.531</td>\n",
       "      <td>312.956</td>\n",
       "      <td>293.716</td>\n",
       "      <td>346.320</td>\n",
       "      <td>317.546</td>\n",
       "      <td>340.761</td>\n",
       "      <td>266.921</td>\n",
       "      <td>NaN</td>\n",
       "    </tr>\n",
       "    <tr>\n",
       "      <th>525597</th>\n",
       "      <td>2022-12-31 23:57:00</td>\n",
       "      <td>-3.77304</td>\n",
       "      <td>3.876940</td>\n",
       "      <td>0.440392</td>\n",
       "      <td>20.2907</td>\n",
       "      <td>0.231726</td>\n",
       "      <td>0.246122</td>\n",
       "      <td>0.885469</td>\n",
       "      <td>9.77093</td>\n",
       "      <td>0.231726</td>\n",
       "      <td>...</td>\n",
       "      <td>253.625</td>\n",
       "      <td>322.417</td>\n",
       "      <td>298.553</td>\n",
       "      <td>316.360</td>\n",
       "      <td>280.209</td>\n",
       "      <td>342.177</td>\n",
       "      <td>NaN</td>\n",
       "      <td>NaN</td>\n",
       "      <td>NaN</td>\n",
       "      <td>NaN</td>\n",
       "    </tr>\n",
       "    <tr>\n",
       "      <th>525598</th>\n",
       "      <td>2022-12-31 23:58:00</td>\n",
       "      <td>-3.18466</td>\n",
       "      <td>4.436660</td>\n",
       "      <td>1.084170</td>\n",
       "      <td>54.5463</td>\n",
       "      <td>0.231726</td>\n",
       "      <td>0.678061</td>\n",
       "      <td>1.230790</td>\n",
       "      <td>26.98440</td>\n",
       "      <td>0.231726</td>\n",
       "      <td>...</td>\n",
       "      <td>268.502</td>\n",
       "      <td>355.668</td>\n",
       "      <td>307.174</td>\n",
       "      <td>304.421</td>\n",
       "      <td>268.147</td>\n",
       "      <td>340.852</td>\n",
       "      <td>351.035</td>\n",
       "      <td>NaN</td>\n",
       "      <td>NaN</td>\n",
       "      <td>NaN</td>\n",
       "    </tr>\n",
       "    <tr>\n",
       "      <th>525599</th>\n",
       "      <td>2022-12-31 23:59:00</td>\n",
       "      <td>-3.04705</td>\n",
       "      <td>4.625160</td>\n",
       "      <td>-0.278954</td>\n",
       "      <td>60.5417</td>\n",
       "      <td>0.231726</td>\n",
       "      <td>1.955090</td>\n",
       "      <td>2.815340</td>\n",
       "      <td>29.45570</td>\n",
       "      <td>0.231726</td>\n",
       "      <td>...</td>\n",
       "      <td>283.904</td>\n",
       "      <td>365.370</td>\n",
       "      <td>315.932</td>\n",
       "      <td>306.916</td>\n",
       "      <td>262.531</td>\n",
       "      <td>328.521</td>\n",
       "      <td>347.499</td>\n",
       "      <td>NaN</td>\n",
       "      <td>NaN</td>\n",
       "      <td>NaN</td>\n",
       "    </tr>\n",
       "  </tbody>\n",
       "</table>\n",
       "<p>525600 rows × 47 columns</p>\n",
       "</div>"
      ],
      "text/plain": [
       "                      time        x         y         z       d0        d1   \n",
       "0      2022-01-01 00:00:00 -6.17170  1.124830 -4.902280  38.0314  0.231726  \\\n",
       "1      2022-01-01 00:01:00 -6.28883  1.233130 -4.790010  38.3868  0.231726   \n",
       "2      2022-01-01 00:02:00 -6.11811  0.871923 -5.128300  37.5636  0.231726   \n",
       "3      2022-01-01 00:03:00 -6.28704  1.249870 -4.766400  38.1094  0.242084   \n",
       "4      2022-01-01 00:04:00 -6.42125  1.171560 -4.532300  37.5893  0.231726   \n",
       "...                    ...      ...       ...       ...      ...       ...   \n",
       "525595 2022-12-31 23:55:00 -1.95967  4.958450 -1.202990  44.4151  0.231726   \n",
       "525596 2022-12-31 23:56:00 -1.82694  4.650830  0.351759  38.3516  0.231726   \n",
       "525597 2022-12-31 23:57:00 -3.77304  3.876940  0.440392  20.2907  0.231726   \n",
       "525598 2022-12-31 23:58:00 -3.18466  4.436660  1.084170  54.5463  0.231726   \n",
       "525599 2022-12-31 23:59:00 -3.04705  4.625160 -0.278954  60.5417  0.231726   \n",
       "\n",
       "               d2         d3        d4         d5  ...      d33      d34   \n",
       "0       46.042700  44.974300  55.91430  43.706900  ...      NaN      NaN  \\\n",
       "1       45.525700  46.258700  55.14280  43.276800  ...      NaN      NaN   \n",
       "2       45.195500  46.822200  55.74840  42.789400  ...      NaN      NaN   \n",
       "3       46.708300  47.171300  53.53800  42.155800  ...      NaN      NaN   \n",
       "4       47.488800  45.323400  54.54040  44.277300  ...      NaN      NaN   \n",
       "...           ...        ...       ...        ...  ...      ...      ...   \n",
       "525595   0.231726   5.561450  16.87790   0.231726  ...  290.891  363.415   \n",
       "525596   0.231726  17.396800  12.84820   0.231726  ...  320.788  409.229   \n",
       "525597   0.246122   0.885469   9.77093   0.231726  ...  253.625  322.417   \n",
       "525598   0.678061   1.230790  26.98440   0.231726  ...  268.502  355.668   \n",
       "525599   1.955090   2.815340  29.45570   0.231726  ...  283.904  365.370   \n",
       "\n",
       "            d35      d36      d37      d38      d39      d40      d41  d42  \n",
       "0           NaN      NaN      NaN      NaN      NaN      NaN      NaN  NaN  \n",
       "1           NaN      NaN      NaN      NaN      NaN      NaN      NaN  NaN  \n",
       "2           NaN      NaN      NaN      NaN      NaN      NaN      NaN  NaN  \n",
       "3           NaN      NaN      NaN      NaN      NaN      NaN      NaN  NaN  \n",
       "4           NaN      NaN      NaN      NaN      NaN      NaN      NaN  NaN  \n",
       "...         ...      ...      ...      ...      ...      ...      ...  ...  \n",
       "525595  324.876  308.783  263.746  333.977  323.566  363.400      NaN  NaN  \n",
       "525596  331.531  312.956  293.716  346.320  317.546  340.761  266.921  NaN  \n",
       "525597  298.553  316.360  280.209  342.177      NaN      NaN      NaN  NaN  \n",
       "525598  307.174  304.421  268.147  340.852  351.035      NaN      NaN  NaN  \n",
       "525599  315.932  306.916  262.531  328.521  347.499      NaN      NaN  NaN  \n",
       "\n",
       "[525600 rows x 47 columns]"
      ]
     },
     "execution_count": 102,
     "metadata": {},
     "output_type": "execute_result"
    }
   ],
   "source": [
    "data_test"
   ]
  },
  {
   "cell_type": "code",
   "execution_count": 73,
   "id": "7e7c77c6",
   "metadata": {},
   "outputs": [],
   "source": [
    "from sklearn.impute import KNNImputer\n",
    "\n",
    "columns_to_impute = ['d0']\n",
    "\n",
    "df_to_impute = data_test[columns_to_impute]\n",
    "\n",
    "imputer = KNNImputer(n_neighbors=5)\n",
    "\n",
    "df_filled = imputer.fit_transform(df_to_impute)\n",
    "\n",
    "df_filled = pd.DataFrame(df_filled, columns=columns_to_impute)"
   ]
  },
  {
   "cell_type": "code",
   "execution_count": 115,
   "id": "c4e01c66",
   "metadata": {
    "collapsed": true
   },
   "outputs": [
    {
     "data": {
      "text/plain": [
       "['d0',\n",
       " 'd1',\n",
       " 'd2',\n",
       " 'd3',\n",
       " 'd4',\n",
       " 'd5',\n",
       " 'd6',\n",
       " 'd7',\n",
       " 'd8',\n",
       " 'd9',\n",
       " 'd10',\n",
       " 'd11',\n",
       " 'd12',\n",
       " 'd13',\n",
       " 'd14',\n",
       " 'd15',\n",
       " 'd16',\n",
       " 'd17',\n",
       " 'd18',\n",
       " 'd19',\n",
       " 'd20',\n",
       " 'd21',\n",
       " 'd22',\n",
       " 'd23',\n",
       " 'd24',\n",
       " 'd25',\n",
       " 'd26',\n",
       " 'd27',\n",
       " 'd28',\n",
       " 'd29',\n",
       " 'd30',\n",
       " 'd31',\n",
       " 'd32',\n",
       " 'd33',\n",
       " 'd34',\n",
       " 'd35',\n",
       " 'd36',\n",
       " 'd37',\n",
       " 'd38',\n",
       " 'd39',\n",
       " 'd40',\n",
       " 'd41',\n",
       " 'd42']"
      ]
     },
     "execution_count": 115,
     "metadata": {},
     "output_type": "execute_result"
    }
   ],
   "source": [
    "l=[]\n",
    "for i in range(0, 43):\n",
    "    l.append(f\"d{i}\")\n",
    "l"
   ]
  },
  {
   "cell_type": "code",
   "execution_count": 74,
   "id": "c7249fb6",
   "metadata": {
    "collapsed": true
   },
   "outputs": [
    {
     "data": {
      "text/html": [
       "<div>\n",
       "<style scoped>\n",
       "    .dataframe tbody tr th:only-of-type {\n",
       "        vertical-align: middle;\n",
       "    }\n",
       "\n",
       "    .dataframe tbody tr th {\n",
       "        vertical-align: top;\n",
       "    }\n",
       "\n",
       "    .dataframe thead th {\n",
       "        text-align: right;\n",
       "    }\n",
       "</style>\n",
       "<table border=\"1\" class=\"dataframe\">\n",
       "  <thead>\n",
       "    <tr style=\"text-align: right;\">\n",
       "      <th></th>\n",
       "      <th>d0</th>\n",
       "    </tr>\n",
       "  </thead>\n",
       "  <tbody>\n",
       "    <tr>\n",
       "      <th>0</th>\n",
       "      <td>38.0314</td>\n",
       "    </tr>\n",
       "    <tr>\n",
       "      <th>1</th>\n",
       "      <td>38.3868</td>\n",
       "    </tr>\n",
       "    <tr>\n",
       "      <th>2</th>\n",
       "      <td>37.5636</td>\n",
       "    </tr>\n",
       "    <tr>\n",
       "      <th>3</th>\n",
       "      <td>38.1094</td>\n",
       "    </tr>\n",
       "    <tr>\n",
       "      <th>4</th>\n",
       "      <td>37.5893</td>\n",
       "    </tr>\n",
       "    <tr>\n",
       "      <th>...</th>\n",
       "      <td>...</td>\n",
       "    </tr>\n",
       "    <tr>\n",
       "      <th>525595</th>\n",
       "      <td>44.4151</td>\n",
       "    </tr>\n",
       "    <tr>\n",
       "      <th>525596</th>\n",
       "      <td>38.3516</td>\n",
       "    </tr>\n",
       "    <tr>\n",
       "      <th>525597</th>\n",
       "      <td>20.2907</td>\n",
       "    </tr>\n",
       "    <tr>\n",
       "      <th>525598</th>\n",
       "      <td>54.5463</td>\n",
       "    </tr>\n",
       "    <tr>\n",
       "      <th>525599</th>\n",
       "      <td>60.5417</td>\n",
       "    </tr>\n",
       "  </tbody>\n",
       "</table>\n",
       "<p>525600 rows × 1 columns</p>\n",
       "</div>"
      ],
      "text/plain": [
       "             d0\n",
       "0       38.0314\n",
       "1       38.3868\n",
       "2       37.5636\n",
       "3       38.1094\n",
       "4       37.5893\n",
       "...         ...\n",
       "525595  44.4151\n",
       "525596  38.3516\n",
       "525597  20.2907\n",
       "525598  54.5463\n",
       "525599  60.5417\n",
       "\n",
       "[525600 rows x 1 columns]"
      ]
     },
     "execution_count": 74,
     "metadata": {},
     "output_type": "execute_result"
    }
   ],
   "source": [
    "df_filled"
   ]
  },
  {
   "cell_type": "code",
   "execution_count": 104,
   "id": "6ed75229",
   "metadata": {},
   "outputs": [
    {
     "data": {
      "text/plain": [
       "13784"
      ]
     },
     "execution_count": 104,
     "metadata": {},
     "output_type": "execute_result"
    }
   ],
   "source": [
    "data['d0'].isnull().sum()"
   ]
  },
  {
   "cell_type": "code",
   "execution_count": 105,
   "id": "3710a069",
   "metadata": {},
   "outputs": [],
   "source": [
    "data_test['d0']=df_filled"
   ]
  },
  {
   "cell_type": "code",
   "execution_count": 106,
   "id": "a4a2a0e3",
   "metadata": {},
   "outputs": [
    {
     "data": {
      "text/plain": [
       "0"
      ]
     },
     "execution_count": 106,
     "metadata": {},
     "output_type": "execute_result"
    }
   ],
   "source": [
    "data_test['d0'].isnull().sum()"
   ]
  },
  {
   "cell_type": "code",
   "execution_count": 107,
   "id": "e668365b",
   "metadata": {},
   "outputs": [
    {
     "data": {
      "text/plain": [
       "13784"
      ]
     },
     "execution_count": 107,
     "metadata": {},
     "output_type": "execute_result"
    }
   ],
   "source": [
    "data['d0'].isnull().sum()"
   ]
  },
  {
   "cell_type": "code",
   "execution_count": 116,
   "id": "9859257b",
   "metadata": {
    "collapsed": true
   },
   "outputs": [
    {
     "ename": "KeyboardInterrupt",
     "evalue": "",
     "output_type": "error",
     "traceback": [
      "\u001b[1;31m---------------------------------------------------------------------------\u001b[0m",
      "\u001b[1;31mKeyboardInterrupt\u001b[0m                         Traceback (most recent call last)",
      "Cell \u001b[1;32mIn[116], line 4\u001b[0m\n\u001b[0;32m      2\u001b[0m \u001b[38;5;28;01mfor\u001b[39;00m i \u001b[38;5;129;01min\u001b[39;00m l:\n\u001b[0;32m      3\u001b[0m     imputer \u001b[38;5;241m=\u001b[39m KNNImputer(n_neighbors\u001b[38;5;241m=\u001b[39m\u001b[38;5;241m5\u001b[39m)\n\u001b[1;32m----> 4\u001b[0m     data_test[i] \u001b[38;5;241m=\u001b[39m \u001b[43mimputer\u001b[49m\u001b[38;5;241;43m.\u001b[39;49m\u001b[43mfit_transform\u001b[49m\u001b[43m(\u001b[49m\u001b[43mdata_test\u001b[49m\u001b[43m[\u001b[49m\u001b[43m[\u001b[49m\u001b[43mi\u001b[49m\u001b[43m]\u001b[49m\u001b[43m]\u001b[49m\u001b[43m)\u001b[49m\n",
      "File \u001b[1;32m~\\AppData\\Local\\Programs\\Python\\Python311\\Lib\\site-packages\\sklearn\\utils\\_set_output.py:140\u001b[0m, in \u001b[0;36m_wrap_method_output.<locals>.wrapped\u001b[1;34m(self, X, *args, **kwargs)\u001b[0m\n\u001b[0;32m    138\u001b[0m \u001b[38;5;129m@wraps\u001b[39m(f)\n\u001b[0;32m    139\u001b[0m \u001b[38;5;28;01mdef\u001b[39;00m \u001b[38;5;21mwrapped\u001b[39m(\u001b[38;5;28mself\u001b[39m, X, \u001b[38;5;241m*\u001b[39margs, \u001b[38;5;241m*\u001b[39m\u001b[38;5;241m*\u001b[39mkwargs):\n\u001b[1;32m--> 140\u001b[0m     data_to_wrap \u001b[38;5;241m=\u001b[39m \u001b[43mf\u001b[49m\u001b[43m(\u001b[49m\u001b[38;5;28;43mself\u001b[39;49m\u001b[43m,\u001b[49m\u001b[43m \u001b[49m\u001b[43mX\u001b[49m\u001b[43m,\u001b[49m\u001b[43m \u001b[49m\u001b[38;5;241;43m*\u001b[39;49m\u001b[43margs\u001b[49m\u001b[43m,\u001b[49m\u001b[43m \u001b[49m\u001b[38;5;241;43m*\u001b[39;49m\u001b[38;5;241;43m*\u001b[39;49m\u001b[43mkwargs\u001b[49m\u001b[43m)\u001b[49m\n\u001b[0;32m    141\u001b[0m     \u001b[38;5;28;01mif\u001b[39;00m \u001b[38;5;28misinstance\u001b[39m(data_to_wrap, \u001b[38;5;28mtuple\u001b[39m):\n\u001b[0;32m    142\u001b[0m         \u001b[38;5;66;03m# only wrap the first output for cross decomposition\u001b[39;00m\n\u001b[0;32m    143\u001b[0m         \u001b[38;5;28;01mreturn\u001b[39;00m (\n\u001b[0;32m    144\u001b[0m             _wrap_data_with_container(method, data_to_wrap[\u001b[38;5;241m0\u001b[39m], X, \u001b[38;5;28mself\u001b[39m),\n\u001b[0;32m    145\u001b[0m             \u001b[38;5;241m*\u001b[39mdata_to_wrap[\u001b[38;5;241m1\u001b[39m:],\n\u001b[0;32m    146\u001b[0m         )\n",
      "File \u001b[1;32m~\\AppData\\Local\\Programs\\Python\\Python311\\Lib\\site-packages\\sklearn\\base.py:878\u001b[0m, in \u001b[0;36mTransformerMixin.fit_transform\u001b[1;34m(self, X, y, **fit_params)\u001b[0m\n\u001b[0;32m    874\u001b[0m \u001b[38;5;66;03m# non-optimized default implementation; override when a better\u001b[39;00m\n\u001b[0;32m    875\u001b[0m \u001b[38;5;66;03m# method is possible for a given clustering algorithm\u001b[39;00m\n\u001b[0;32m    876\u001b[0m \u001b[38;5;28;01mif\u001b[39;00m y \u001b[38;5;129;01mis\u001b[39;00m \u001b[38;5;28;01mNone\u001b[39;00m:\n\u001b[0;32m    877\u001b[0m     \u001b[38;5;66;03m# fit method of arity 1 (unsupervised transformation)\u001b[39;00m\n\u001b[1;32m--> 878\u001b[0m     \u001b[38;5;28;01mreturn\u001b[39;00m \u001b[38;5;28;43mself\u001b[39;49m\u001b[38;5;241;43m.\u001b[39;49m\u001b[43mfit\u001b[49m\u001b[43m(\u001b[49m\u001b[43mX\u001b[49m\u001b[43m,\u001b[49m\u001b[43m \u001b[49m\u001b[38;5;241;43m*\u001b[39;49m\u001b[38;5;241;43m*\u001b[39;49m\u001b[43mfit_params\u001b[49m\u001b[43m)\u001b[49m\u001b[38;5;241;43m.\u001b[39;49m\u001b[43mtransform\u001b[49m\u001b[43m(\u001b[49m\u001b[43mX\u001b[49m\u001b[43m)\u001b[49m\n\u001b[0;32m    879\u001b[0m \u001b[38;5;28;01melse\u001b[39;00m:\n\u001b[0;32m    880\u001b[0m     \u001b[38;5;66;03m# fit method of arity 2 (supervised transformation)\u001b[39;00m\n\u001b[0;32m    881\u001b[0m     \u001b[38;5;28;01mreturn\u001b[39;00m \u001b[38;5;28mself\u001b[39m\u001b[38;5;241m.\u001b[39mfit(X, y, \u001b[38;5;241m*\u001b[39m\u001b[38;5;241m*\u001b[39mfit_params)\u001b[38;5;241m.\u001b[39mtransform(X)\n",
      "File \u001b[1;32m~\\AppData\\Local\\Programs\\Python\\Python311\\Lib\\site-packages\\sklearn\\utils\\_set_output.py:140\u001b[0m, in \u001b[0;36m_wrap_method_output.<locals>.wrapped\u001b[1;34m(self, X, *args, **kwargs)\u001b[0m\n\u001b[0;32m    138\u001b[0m \u001b[38;5;129m@wraps\u001b[39m(f)\n\u001b[0;32m    139\u001b[0m \u001b[38;5;28;01mdef\u001b[39;00m \u001b[38;5;21mwrapped\u001b[39m(\u001b[38;5;28mself\u001b[39m, X, \u001b[38;5;241m*\u001b[39margs, \u001b[38;5;241m*\u001b[39m\u001b[38;5;241m*\u001b[39mkwargs):\n\u001b[1;32m--> 140\u001b[0m     data_to_wrap \u001b[38;5;241m=\u001b[39m \u001b[43mf\u001b[49m\u001b[43m(\u001b[49m\u001b[38;5;28;43mself\u001b[39;49m\u001b[43m,\u001b[49m\u001b[43m \u001b[49m\u001b[43mX\u001b[49m\u001b[43m,\u001b[49m\u001b[43m \u001b[49m\u001b[38;5;241;43m*\u001b[39;49m\u001b[43margs\u001b[49m\u001b[43m,\u001b[49m\u001b[43m \u001b[49m\u001b[38;5;241;43m*\u001b[39;49m\u001b[38;5;241;43m*\u001b[39;49m\u001b[43mkwargs\u001b[49m\u001b[43m)\u001b[49m\n\u001b[0;32m    141\u001b[0m     \u001b[38;5;28;01mif\u001b[39;00m \u001b[38;5;28misinstance\u001b[39m(data_to_wrap, \u001b[38;5;28mtuple\u001b[39m):\n\u001b[0;32m    142\u001b[0m         \u001b[38;5;66;03m# only wrap the first output for cross decomposition\u001b[39;00m\n\u001b[0;32m    143\u001b[0m         \u001b[38;5;28;01mreturn\u001b[39;00m (\n\u001b[0;32m    144\u001b[0m             _wrap_data_with_container(method, data_to_wrap[\u001b[38;5;241m0\u001b[39m], X, \u001b[38;5;28mself\u001b[39m),\n\u001b[0;32m    145\u001b[0m             \u001b[38;5;241m*\u001b[39mdata_to_wrap[\u001b[38;5;241m1\u001b[39m:],\n\u001b[0;32m    146\u001b[0m         )\n",
      "File \u001b[1;32m~\\AppData\\Local\\Programs\\Python\\Python311\\Lib\\site-packages\\sklearn\\impute\\_knn.py:357\u001b[0m, in \u001b[0;36mKNNImputer.transform\u001b[1;34m(self, X)\u001b[0m\n\u001b[0;32m    348\u001b[0m \u001b[38;5;66;03m# process in fixed-memory chunks\u001b[39;00m\n\u001b[0;32m    349\u001b[0m gen \u001b[38;5;241m=\u001b[39m pairwise_distances_chunked(\n\u001b[0;32m    350\u001b[0m     X[row_missing_idx, :],\n\u001b[0;32m    351\u001b[0m     \u001b[38;5;28mself\u001b[39m\u001b[38;5;241m.\u001b[39m_fit_X,\n\u001b[1;32m   (...)\u001b[0m\n\u001b[0;32m    355\u001b[0m     reduce_func\u001b[38;5;241m=\u001b[39mprocess_chunk,\n\u001b[0;32m    356\u001b[0m )\n\u001b[1;32m--> 357\u001b[0m \u001b[38;5;28;01mfor\u001b[39;00m chunk \u001b[38;5;129;01min\u001b[39;00m gen:\n\u001b[0;32m    358\u001b[0m     \u001b[38;5;66;03m# process_chunk modifies X in place. No return value.\u001b[39;00m\n\u001b[0;32m    359\u001b[0m     \u001b[38;5;28;01mpass\u001b[39;00m\n\u001b[0;32m    361\u001b[0m \u001b[38;5;28;01mif\u001b[39;00m \u001b[38;5;28mself\u001b[39m\u001b[38;5;241m.\u001b[39mkeep_empty_features:\n",
      "File \u001b[1;32m~\\AppData\\Local\\Programs\\Python\\Python311\\Lib\\site-packages\\sklearn\\metrics\\pairwise.py:1867\u001b[0m, in \u001b[0;36mpairwise_distances_chunked\u001b[1;34m(X, Y, reduce_func, metric, n_jobs, working_memory, **kwds)\u001b[0m\n\u001b[0;32m   1865\u001b[0m \u001b[38;5;28;01melse\u001b[39;00m:\n\u001b[0;32m   1866\u001b[0m     X_chunk \u001b[38;5;241m=\u001b[39m X[sl]\n\u001b[1;32m-> 1867\u001b[0m D_chunk \u001b[38;5;241m=\u001b[39m \u001b[43mpairwise_distances\u001b[49m\u001b[43m(\u001b[49m\u001b[43mX_chunk\u001b[49m\u001b[43m,\u001b[49m\u001b[43m \u001b[49m\u001b[43mY\u001b[49m\u001b[43m,\u001b[49m\u001b[43m \u001b[49m\u001b[43mmetric\u001b[49m\u001b[38;5;241;43m=\u001b[39;49m\u001b[43mmetric\u001b[49m\u001b[43m,\u001b[49m\u001b[43m \u001b[49m\u001b[43mn_jobs\u001b[49m\u001b[38;5;241;43m=\u001b[39;49m\u001b[43mn_jobs\u001b[49m\u001b[43m,\u001b[49m\u001b[43m \u001b[49m\u001b[38;5;241;43m*\u001b[39;49m\u001b[38;5;241;43m*\u001b[39;49m\u001b[43mkwds\u001b[49m\u001b[43m)\u001b[49m\n\u001b[0;32m   1868\u001b[0m \u001b[38;5;28;01mif\u001b[39;00m (X \u001b[38;5;129;01mis\u001b[39;00m Y \u001b[38;5;129;01mor\u001b[39;00m Y \u001b[38;5;129;01mis\u001b[39;00m \u001b[38;5;28;01mNone\u001b[39;00m) \u001b[38;5;129;01mand\u001b[39;00m PAIRWISE_DISTANCE_FUNCTIONS\u001b[38;5;241m.\u001b[39mget(\n\u001b[0;32m   1869\u001b[0m     metric, \u001b[38;5;28;01mNone\u001b[39;00m\n\u001b[0;32m   1870\u001b[0m ) \u001b[38;5;129;01mis\u001b[39;00m euclidean_distances:\n\u001b[0;32m   1871\u001b[0m     \u001b[38;5;66;03m# zeroing diagonal, taking care of aliases of \"euclidean\",\u001b[39;00m\n\u001b[0;32m   1872\u001b[0m     \u001b[38;5;66;03m# i.e. \"l2\"\u001b[39;00m\n\u001b[0;32m   1873\u001b[0m     D_chunk\u001b[38;5;241m.\u001b[39mflat[sl\u001b[38;5;241m.\u001b[39mstart :: _num_samples(X) \u001b[38;5;241m+\u001b[39m \u001b[38;5;241m1\u001b[39m] \u001b[38;5;241m=\u001b[39m \u001b[38;5;241m0\u001b[39m\n",
      "File \u001b[1;32m~\\AppData\\Local\\Programs\\Python\\Python311\\Lib\\site-packages\\sklearn\\metrics\\pairwise.py:2039\u001b[0m, in \u001b[0;36mpairwise_distances\u001b[1;34m(X, Y, metric, n_jobs, force_all_finite, **kwds)\u001b[0m\n\u001b[0;32m   2036\u001b[0m         \u001b[38;5;28;01mreturn\u001b[39;00m distance\u001b[38;5;241m.\u001b[39msquareform(distance\u001b[38;5;241m.\u001b[39mpdist(X, metric\u001b[38;5;241m=\u001b[39mmetric, \u001b[38;5;241m*\u001b[39m\u001b[38;5;241m*\u001b[39mkwds))\n\u001b[0;32m   2037\u001b[0m     func \u001b[38;5;241m=\u001b[39m partial(distance\u001b[38;5;241m.\u001b[39mcdist, metric\u001b[38;5;241m=\u001b[39mmetric, \u001b[38;5;241m*\u001b[39m\u001b[38;5;241m*\u001b[39mkwds)\n\u001b[1;32m-> 2039\u001b[0m \u001b[38;5;28;01mreturn\u001b[39;00m \u001b[43m_parallel_pairwise\u001b[49m\u001b[43m(\u001b[49m\u001b[43mX\u001b[49m\u001b[43m,\u001b[49m\u001b[43m \u001b[49m\u001b[43mY\u001b[49m\u001b[43m,\u001b[49m\u001b[43m \u001b[49m\u001b[43mfunc\u001b[49m\u001b[43m,\u001b[49m\u001b[43m \u001b[49m\u001b[43mn_jobs\u001b[49m\u001b[43m,\u001b[49m\u001b[43m \u001b[49m\u001b[38;5;241;43m*\u001b[39;49m\u001b[38;5;241;43m*\u001b[39;49m\u001b[43mkwds\u001b[49m\u001b[43m)\u001b[49m\n",
      "File \u001b[1;32m~\\AppData\\Local\\Programs\\Python\\Python311\\Lib\\site-packages\\sklearn\\metrics\\pairwise.py:1579\u001b[0m, in \u001b[0;36m_parallel_pairwise\u001b[1;34m(X, Y, func, n_jobs, **kwds)\u001b[0m\n\u001b[0;32m   1576\u001b[0m X, Y, dtype \u001b[38;5;241m=\u001b[39m _return_float_dtype(X, Y)\n\u001b[0;32m   1578\u001b[0m \u001b[38;5;28;01mif\u001b[39;00m effective_n_jobs(n_jobs) \u001b[38;5;241m==\u001b[39m \u001b[38;5;241m1\u001b[39m:\n\u001b[1;32m-> 1579\u001b[0m     \u001b[38;5;28;01mreturn\u001b[39;00m \u001b[43mfunc\u001b[49m\u001b[43m(\u001b[49m\u001b[43mX\u001b[49m\u001b[43m,\u001b[49m\u001b[43m \u001b[49m\u001b[43mY\u001b[49m\u001b[43m,\u001b[49m\u001b[43m \u001b[49m\u001b[38;5;241;43m*\u001b[39;49m\u001b[38;5;241;43m*\u001b[39;49m\u001b[43mkwds\u001b[49m\u001b[43m)\u001b[49m\n\u001b[0;32m   1581\u001b[0m \u001b[38;5;66;03m# enforce a threading backend to prevent data communication overhead\u001b[39;00m\n\u001b[0;32m   1582\u001b[0m fd \u001b[38;5;241m=\u001b[39m delayed(_dist_wrapper)\n",
      "File \u001b[1;32m~\\AppData\\Local\\Programs\\Python\\Python311\\Lib\\site-packages\\sklearn\\metrics\\pairwise.py:474\u001b[0m, in \u001b[0;36mnan_euclidean_distances\u001b[1;34m(X, Y, squared, missing_values, copy)\u001b[0m\n\u001b[0;32m    471\u001b[0m X[missing_X] \u001b[38;5;241m=\u001b[39m \u001b[38;5;241m0\u001b[39m\n\u001b[0;32m    472\u001b[0m Y[missing_Y] \u001b[38;5;241m=\u001b[39m \u001b[38;5;241m0\u001b[39m\n\u001b[1;32m--> 474\u001b[0m distances \u001b[38;5;241m=\u001b[39m \u001b[43meuclidean_distances\u001b[49m\u001b[43m(\u001b[49m\u001b[43mX\u001b[49m\u001b[43m,\u001b[49m\u001b[43m \u001b[49m\u001b[43mY\u001b[49m\u001b[43m,\u001b[49m\u001b[43m \u001b[49m\u001b[43msquared\u001b[49m\u001b[38;5;241;43m=\u001b[39;49m\u001b[38;5;28;43;01mTrue\u001b[39;49;00m\u001b[43m)\u001b[49m\n\u001b[0;32m    476\u001b[0m \u001b[38;5;66;03m# Adjust distances for missing values\u001b[39;00m\n\u001b[0;32m    477\u001b[0m XX \u001b[38;5;241m=\u001b[39m X \u001b[38;5;241m*\u001b[39m X\n",
      "File \u001b[1;32m~\\AppData\\Local\\Programs\\Python\\Python311\\Lib\\site-packages\\sklearn\\metrics\\pairwise.py:328\u001b[0m, in \u001b[0;36meuclidean_distances\u001b[1;34m(X, Y, Y_norm_squared, squared, X_norm_squared)\u001b[0m\n\u001b[0;32m    322\u001b[0m     \u001b[38;5;28;01mif\u001b[39;00m Y_norm_squared\u001b[38;5;241m.\u001b[39mshape \u001b[38;5;241m!=\u001b[39m (\u001b[38;5;241m1\u001b[39m, Y\u001b[38;5;241m.\u001b[39mshape[\u001b[38;5;241m0\u001b[39m]):\n\u001b[0;32m    323\u001b[0m         \u001b[38;5;28;01mraise\u001b[39;00m \u001b[38;5;167;01mValueError\u001b[39;00m(\n\u001b[0;32m    324\u001b[0m             \u001b[38;5;124mf\u001b[39m\u001b[38;5;124m\"\u001b[39m\u001b[38;5;124mIncompatible dimensions for Y of shape \u001b[39m\u001b[38;5;132;01m{\u001b[39;00mY\u001b[38;5;241m.\u001b[39mshape\u001b[38;5;132;01m}\u001b[39;00m\u001b[38;5;124m and \u001b[39m\u001b[38;5;124m\"\u001b[39m\n\u001b[0;32m    325\u001b[0m             \u001b[38;5;124mf\u001b[39m\u001b[38;5;124m\"\u001b[39m\u001b[38;5;124mY_norm_squared of shape \u001b[39m\u001b[38;5;132;01m{\u001b[39;00moriginal_shape\u001b[38;5;132;01m}\u001b[39;00m\u001b[38;5;124m.\u001b[39m\u001b[38;5;124m\"\u001b[39m\n\u001b[0;32m    326\u001b[0m         )\n\u001b[1;32m--> 328\u001b[0m \u001b[38;5;28;01mreturn\u001b[39;00m \u001b[43m_euclidean_distances\u001b[49m\u001b[43m(\u001b[49m\u001b[43mX\u001b[49m\u001b[43m,\u001b[49m\u001b[43m \u001b[49m\u001b[43mY\u001b[49m\u001b[43m,\u001b[49m\u001b[43m \u001b[49m\u001b[43mX_norm_squared\u001b[49m\u001b[43m,\u001b[49m\u001b[43m \u001b[49m\u001b[43mY_norm_squared\u001b[49m\u001b[43m,\u001b[49m\u001b[43m \u001b[49m\u001b[43msquared\u001b[49m\u001b[43m)\u001b[49m\n",
      "File \u001b[1;32m~\\AppData\\Local\\Programs\\Python\\Python311\\Lib\\site-packages\\sklearn\\metrics\\pairwise.py:369\u001b[0m, in \u001b[0;36m_euclidean_distances\u001b[1;34m(X, Y, X_norm_squared, Y_norm_squared, squared)\u001b[0m\n\u001b[0;32m    366\u001b[0m     distances \u001b[38;5;241m=\u001b[39m _euclidean_distances_upcast(X, XX, Y, YY)\n\u001b[0;32m    367\u001b[0m \u001b[38;5;28;01melse\u001b[39;00m:\n\u001b[0;32m    368\u001b[0m     \u001b[38;5;66;03m# if dtype is already float64, no need to chunk and upcast\u001b[39;00m\n\u001b[1;32m--> 369\u001b[0m     distances \u001b[38;5;241m=\u001b[39m \u001b[38;5;241m-\u001b[39m\u001b[38;5;241m2\u001b[39m \u001b[38;5;241m*\u001b[39m \u001b[43msafe_sparse_dot\u001b[49m\u001b[43m(\u001b[49m\u001b[43mX\u001b[49m\u001b[43m,\u001b[49m\u001b[43m \u001b[49m\u001b[43mY\u001b[49m\u001b[38;5;241;43m.\u001b[39;49m\u001b[43mT\u001b[49m\u001b[43m,\u001b[49m\u001b[43m \u001b[49m\u001b[43mdense_output\u001b[49m\u001b[38;5;241;43m=\u001b[39;49m\u001b[38;5;28;43;01mTrue\u001b[39;49;00m\u001b[43m)\u001b[49m\n\u001b[0;32m    370\u001b[0m     distances \u001b[38;5;241m+\u001b[39m\u001b[38;5;241m=\u001b[39m XX\n\u001b[0;32m    371\u001b[0m     distances \u001b[38;5;241m+\u001b[39m\u001b[38;5;241m=\u001b[39m YY\n",
      "File \u001b[1;32m~\\AppData\\Local\\Programs\\Python\\Python311\\Lib\\site-packages\\sklearn\\utils\\extmath.py:192\u001b[0m, in \u001b[0;36msafe_sparse_dot\u001b[1;34m(a, b, dense_output)\u001b[0m\n\u001b[0;32m    188\u001b[0m \u001b[38;5;28;01melse\u001b[39;00m:\n\u001b[0;32m    189\u001b[0m     ret \u001b[38;5;241m=\u001b[39m a \u001b[38;5;241m@\u001b[39m b\n\u001b[0;32m    191\u001b[0m \u001b[38;5;28;01mif\u001b[39;00m (\n\u001b[1;32m--> 192\u001b[0m     \u001b[43msparse\u001b[49m\u001b[38;5;241;43m.\u001b[39;49m\u001b[43missparse\u001b[49m\u001b[43m(\u001b[49m\u001b[43ma\u001b[49m\u001b[43m)\u001b[49m\n\u001b[0;32m    193\u001b[0m     \u001b[38;5;129;01mand\u001b[39;00m sparse\u001b[38;5;241m.\u001b[39missparse(b)\n\u001b[0;32m    194\u001b[0m     \u001b[38;5;129;01mand\u001b[39;00m dense_output\n\u001b[0;32m    195\u001b[0m     \u001b[38;5;129;01mand\u001b[39;00m \u001b[38;5;28mhasattr\u001b[39m(ret, \u001b[38;5;124m\"\u001b[39m\u001b[38;5;124mtoarray\u001b[39m\u001b[38;5;124m\"\u001b[39m)\n\u001b[0;32m    196\u001b[0m ):\n\u001b[0;32m    197\u001b[0m     \u001b[38;5;28;01mreturn\u001b[39;00m ret\u001b[38;5;241m.\u001b[39mtoarray()\n\u001b[0;32m    198\u001b[0m \u001b[38;5;28;01mreturn\u001b[39;00m ret\n",
      "File \u001b[1;32m~\\AppData\\Local\\Programs\\Python\\Python311\\Lib\\site-packages\\scipy\\sparse\\_base.py:1301\u001b[0m, in \u001b[0;36misspmatrix\u001b[1;34m(x)\u001b[0m\n\u001b[0;32m   1297\u001b[0m         \u001b[38;5;28;01melse\u001b[39;00m:\n\u001b[0;32m   1298\u001b[0m             \u001b[38;5;28;01mreturn\u001b[39;00m np\u001b[38;5;241m.\u001b[39mzeros(\u001b[38;5;28mself\u001b[39m\u001b[38;5;241m.\u001b[39mshape, dtype\u001b[38;5;241m=\u001b[39m\u001b[38;5;28mself\u001b[39m\u001b[38;5;241m.\u001b[39mdtype, order\u001b[38;5;241m=\u001b[39morder)\n\u001b[1;32m-> 1301\u001b[0m \u001b[38;5;28;01mdef\u001b[39;00m \u001b[38;5;21misspmatrix\u001b[39m(x):\n\u001b[0;32m   1302\u001b[0m \u001b[38;5;250m    \u001b[39m\u001b[38;5;124;03m\"\"\"Is x of a sparse matrix type?\u001b[39;00m\n\u001b[0;32m   1303\u001b[0m \n\u001b[0;32m   1304\u001b[0m \u001b[38;5;124;03m    Parameters\u001b[39;00m\n\u001b[1;32m   (...)\u001b[0m\n\u001b[0;32m   1326\u001b[0m \u001b[38;5;124;03m    False\u001b[39;00m\n\u001b[0;32m   1327\u001b[0m \u001b[38;5;124;03m    \"\"\"\u001b[39;00m\n\u001b[0;32m   1328\u001b[0m     \u001b[38;5;28;01mreturn\u001b[39;00m \u001b[38;5;28misinstance\u001b[39m(x, spmatrix)\n",
      "\u001b[1;31mKeyboardInterrupt\u001b[0m: "
     ]
    }
   ],
   "source": [
    "from sklearn.impute import KNNImputer\n",
    "for i in l:\n",
    "    imputer = KNNImputer(n_neighbors=5)\n",
    "    data_test[i] = imputer.fit_transform(data_test[[i]])"
   ]
  },
  {
   "cell_type": "code",
   "execution_count": 118,
   "id": "b343414b",
   "metadata": {},
   "outputs": [
    {
     "name": "stdout",
     "output_type": "stream",
     "text": [
      "23\n"
     ]
    }
   ],
   "source": [
    "p=0\n",
    "while p < 43:\n",
    "    if data_test['d' + str(p)].isnull().sum() > 0:\n",
    "        print(p)\n",
    "        break\n",
    "    p+=1"
   ]
  },
  {
   "cell_type": "code",
   "execution_count": 153,
   "id": "504c69fd",
   "metadata": {},
   "outputs": [
    {
     "data": {
      "text/plain": [
       "98323"
      ]
     },
     "execution_count": 153,
     "metadata": {},
     "output_type": "execute_result"
    }
   ],
   "source": [
    "data_test['d23'].isnull().sum()"
   ]
  },
  {
   "cell_type": "markdown",
   "id": "f0162010",
   "metadata": {},
   "source": [
    "## knn was done till d22"
   ]
  },
  {
   "cell_type": "code",
   "execution_count": 146,
   "id": "219b62e2",
   "metadata": {},
   "outputs": [],
   "source": [
    "pp = data_test['d28'].copy()"
   ]
  },
  {
   "cell_type": "code",
   "execution_count": 147,
   "id": "89d5711b",
   "metadata": {},
   "outputs": [
    {
     "name": "stdout",
     "output_type": "stream",
     "text": [
      "315.868 0.0\n"
     ]
    }
   ],
   "source": [
    "pp[0]\n",
    "pp[0] = 0\n",
    "# 315.868\n",
    "print(data_test['d23'][0],pp[0])"
   ]
  },
  {
   "cell_type": "code",
   "execution_count": 148,
   "id": "ef2e35b7",
   "metadata": {},
   "outputs": [],
   "source": [
    "pp.interpolate(method='linear', inplace=True)"
   ]
  },
  {
   "cell_type": "code",
   "execution_count": 149,
   "id": "93e9a01f",
   "metadata": {
    "collapsed": true
   },
   "outputs": [
    {
     "name": "stdout",
     "output_type": "stream",
     "text": [
      "0           0.0000\n",
      "1           8.2666\n",
      "2          16.5332\n",
      "3          24.7998\n",
      "4          33.0664\n",
      "            ...   \n",
      "525595    499.9760\n",
      "525596    464.4020\n",
      "525597    465.1780\n",
      "525598    474.5900\n",
      "525599    483.9950\n",
      "Name: d28, Length: 525600, dtype: float64\n"
     ]
    }
   ],
   "source": [
    "print(pp)"
   ]
  },
  {
   "cell_type": "code",
   "execution_count": 150,
   "id": "af5e1ac3",
   "metadata": {},
   "outputs": [
    {
     "data": {
      "text/plain": [
       "0"
      ]
     },
     "execution_count": 150,
     "metadata": {},
     "output_type": "execute_result"
    }
   ],
   "source": [
    "pp.isnull().sum()"
   ]
  },
  {
   "cell_type": "code",
   "execution_count": 151,
   "id": "0f5452dd",
   "metadata": {},
   "outputs": [],
   "source": [
    "for i in range(29, 43):\n",
    "    data_test=data_test.drop(columns=[f'd{i}'])"
   ]
  },
  {
   "cell_type": "code",
   "execution_count": 152,
   "id": "e5180ea4",
   "metadata": {
    "collapsed": true
   },
   "outputs": [
    {
     "data": {
      "text/html": [
       "<div>\n",
       "<style scoped>\n",
       "    .dataframe tbody tr th:only-of-type {\n",
       "        vertical-align: middle;\n",
       "    }\n",
       "\n",
       "    .dataframe tbody tr th {\n",
       "        vertical-align: top;\n",
       "    }\n",
       "\n",
       "    .dataframe thead th {\n",
       "        text-align: right;\n",
       "    }\n",
       "</style>\n",
       "<table border=\"1\" class=\"dataframe\">\n",
       "  <thead>\n",
       "    <tr style=\"text-align: right;\">\n",
       "      <th></th>\n",
       "      <th>time</th>\n",
       "      <th>x</th>\n",
       "      <th>y</th>\n",
       "      <th>z</th>\n",
       "      <th>d0</th>\n",
       "      <th>d1</th>\n",
       "      <th>d2</th>\n",
       "      <th>d3</th>\n",
       "      <th>d4</th>\n",
       "      <th>d5</th>\n",
       "      <th>...</th>\n",
       "      <th>d19</th>\n",
       "      <th>d20</th>\n",
       "      <th>d21</th>\n",
       "      <th>d22</th>\n",
       "      <th>d23</th>\n",
       "      <th>d24</th>\n",
       "      <th>d25</th>\n",
       "      <th>d26</th>\n",
       "      <th>d27</th>\n",
       "      <th>d28</th>\n",
       "    </tr>\n",
       "  </thead>\n",
       "  <tbody>\n",
       "    <tr>\n",
       "      <th>0</th>\n",
       "      <td>2022-01-01 00:00:00</td>\n",
       "      <td>-6.17170</td>\n",
       "      <td>1.124830</td>\n",
       "      <td>-4.90228</td>\n",
       "      <td>38.0314</td>\n",
       "      <td>0.231726</td>\n",
       "      <td>46.0427</td>\n",
       "      <td>44.9743</td>\n",
       "      <td>55.9143</td>\n",
       "      <td>43.7069</td>\n",
       "      <td>...</td>\n",
       "      <td>454.962</td>\n",
       "      <td>410.064</td>\n",
       "      <td>394.014</td>\n",
       "      <td>356.120</td>\n",
       "      <td>315.868</td>\n",
       "      <td>365.553</td>\n",
       "      <td>292.860</td>\n",
       "      <td>NaN</td>\n",
       "      <td>NaN</td>\n",
       "      <td>NaN</td>\n",
       "    </tr>\n",
       "    <tr>\n",
       "      <th>1</th>\n",
       "      <td>2022-01-01 00:01:00</td>\n",
       "      <td>-6.28883</td>\n",
       "      <td>1.233130</td>\n",
       "      <td>-4.79001</td>\n",
       "      <td>38.3868</td>\n",
       "      <td>0.231726</td>\n",
       "      <td>45.5257</td>\n",
       "      <td>46.2587</td>\n",
       "      <td>55.1428</td>\n",
       "      <td>43.2768</td>\n",
       "      <td>...</td>\n",
       "      <td>453.340</td>\n",
       "      <td>410.674</td>\n",
       "      <td>394.842</td>\n",
       "      <td>355.196</td>\n",
       "      <td>311.962</td>\n",
       "      <td>361.511</td>\n",
       "      <td>294.536</td>\n",
       "      <td>NaN</td>\n",
       "      <td>NaN</td>\n",
       "      <td>NaN</td>\n",
       "    </tr>\n",
       "    <tr>\n",
       "      <th>2</th>\n",
       "      <td>2022-01-01 00:02:00</td>\n",
       "      <td>-6.11811</td>\n",
       "      <td>0.871923</td>\n",
       "      <td>-5.12830</td>\n",
       "      <td>37.5636</td>\n",
       "      <td>0.231726</td>\n",
       "      <td>45.1955</td>\n",
       "      <td>46.8222</td>\n",
       "      <td>55.7484</td>\n",
       "      <td>42.7894</td>\n",
       "      <td>...</td>\n",
       "      <td>456.235</td>\n",
       "      <td>418.128</td>\n",
       "      <td>406.183</td>\n",
       "      <td>358.275</td>\n",
       "      <td>313.288</td>\n",
       "      <td>364.361</td>\n",
       "      <td>293.292</td>\n",
       "      <td>372.415</td>\n",
       "      <td>NaN</td>\n",
       "      <td>NaN</td>\n",
       "    </tr>\n",
       "    <tr>\n",
       "      <th>3</th>\n",
       "      <td>2022-01-01 00:03:00</td>\n",
       "      <td>-6.28704</td>\n",
       "      <td>1.249870</td>\n",
       "      <td>-4.76640</td>\n",
       "      <td>38.1094</td>\n",
       "      <td>0.242084</td>\n",
       "      <td>46.7083</td>\n",
       "      <td>47.1713</td>\n",
       "      <td>53.5380</td>\n",
       "      <td>42.1558</td>\n",
       "      <td>...</td>\n",
       "      <td>447.146</td>\n",
       "      <td>414.930</td>\n",
       "      <td>407.771</td>\n",
       "      <td>357.414</td>\n",
       "      <td>312.958</td>\n",
       "      <td>360.940</td>\n",
       "      <td>289.523</td>\n",
       "      <td>372.449</td>\n",
       "      <td>NaN</td>\n",
       "      <td>NaN</td>\n",
       "    </tr>\n",
       "    <tr>\n",
       "      <th>4</th>\n",
       "      <td>2022-01-01 00:04:00</td>\n",
       "      <td>-6.42125</td>\n",
       "      <td>1.171560</td>\n",
       "      <td>-4.53230</td>\n",
       "      <td>37.5893</td>\n",
       "      <td>0.231726</td>\n",
       "      <td>47.4888</td>\n",
       "      <td>45.3234</td>\n",
       "      <td>54.5404</td>\n",
       "      <td>44.2773</td>\n",
       "      <td>...</td>\n",
       "      <td>459.362</td>\n",
       "      <td>401.891</td>\n",
       "      <td>382.215</td>\n",
       "      <td>354.552</td>\n",
       "      <td>316.094</td>\n",
       "      <td>365.979</td>\n",
       "      <td>291.441</td>\n",
       "      <td>NaN</td>\n",
       "      <td>NaN</td>\n",
       "      <td>NaN</td>\n",
       "    </tr>\n",
       "  </tbody>\n",
       "</table>\n",
       "<p>5 rows × 33 columns</p>\n",
       "</div>"
      ],
      "text/plain": [
       "                 time        x         y        z       d0        d1       d2   \n",
       "0 2022-01-01 00:00:00 -6.17170  1.124830 -4.90228  38.0314  0.231726  46.0427  \\\n",
       "1 2022-01-01 00:01:00 -6.28883  1.233130 -4.79001  38.3868  0.231726  45.5257   \n",
       "2 2022-01-01 00:02:00 -6.11811  0.871923 -5.12830  37.5636  0.231726  45.1955   \n",
       "3 2022-01-01 00:03:00 -6.28704  1.249870 -4.76640  38.1094  0.242084  46.7083   \n",
       "4 2022-01-01 00:04:00 -6.42125  1.171560 -4.53230  37.5893  0.231726  47.4888   \n",
       "\n",
       "        d3       d4       d5  ...      d19      d20      d21      d22   \n",
       "0  44.9743  55.9143  43.7069  ...  454.962  410.064  394.014  356.120  \\\n",
       "1  46.2587  55.1428  43.2768  ...  453.340  410.674  394.842  355.196   \n",
       "2  46.8222  55.7484  42.7894  ...  456.235  418.128  406.183  358.275   \n",
       "3  47.1713  53.5380  42.1558  ...  447.146  414.930  407.771  357.414   \n",
       "4  45.3234  54.5404  44.2773  ...  459.362  401.891  382.215  354.552   \n",
       "\n",
       "       d23      d24      d25      d26  d27  d28  \n",
       "0  315.868  365.553  292.860      NaN  NaN  NaN  \n",
       "1  311.962  361.511  294.536      NaN  NaN  NaN  \n",
       "2  313.288  364.361  293.292  372.415  NaN  NaN  \n",
       "3  312.958  360.940  289.523  372.449  NaN  NaN  \n",
       "4  316.094  365.979  291.441      NaN  NaN  NaN  \n",
       "\n",
       "[5 rows x 33 columns]"
      ]
     },
     "execution_count": 152,
     "metadata": {},
     "output_type": "execute_result"
    }
   ],
   "source": [
    "data_test.head()"
   ]
  },
  {
   "cell_type": "code",
   "execution_count": 154,
   "id": "a23b510b",
   "metadata": {},
   "outputs": [],
   "source": [
    "for i in range(23, 29):\n",
    "    data_test[l[i]].interpolate(method='linear', inplace=True)"
   ]
  },
  {
   "cell_type": "code",
   "execution_count": 157,
   "id": "23d72736",
   "metadata": {},
   "outputs": [
    {
     "data": {
      "text/plain": [
       "2"
      ]
     },
     "execution_count": 157,
     "metadata": {},
     "output_type": "execute_result"
    }
   ],
   "source": [
    "data_test['d26'].isnull().sum()"
   ]
  },
  {
   "cell_type": "code",
   "execution_count": 158,
   "id": "83c8daf3",
   "metadata": {},
   "outputs": [],
   "source": [
    "data_test.to_csv('Astro_2022.csv', index=False)"
   ]
  },
  {
   "cell_type": "code",
   "execution_count": 62,
   "id": "075bc766",
   "metadata": {},
   "outputs": [
    {
     "name": "stderr",
     "output_type": "stream",
     "text": [
      "C:\\Users\\ADMIN\\AppData\\Local\\Temp\\ipykernel_29916\\994488715.py:1: FutureWarning: The argument 'infer_datetime_format' is deprecated and will be removed in a future version. A strict version of it is now the default, see https://pandas.pydata.org/pdeps/0004-consistent-to-datetime-parsing.html. You can safely remove this argument.\n",
      "  data_test = pd.read_csv(\"Astro_2022.csv\", \\\n"
     ]
    }
   ],
   "source": [
    "data_test = pd.read_csv(\"Astro_2022.csv\", \\\n",
    "delimiter = ',', parse_dates=[0], \\\n",
    "infer_datetime_format=True, na_values='0')"
   ]
  },
  {
   "cell_type": "code",
   "execution_count": 70,
   "id": "a343ce28",
   "metadata": {},
   "outputs": [
    {
     "data": {
      "image/png": "[encoded data removed]",
      "text/plain": [
       "<Figure size 640x480 with 1 Axes>"
      ]
     },
     "metadata": {},
     "output_type": "display_data"
    }
   ],
   "source": [
    "data_test['time'] = pd.to_datetime(data_test['time'])\n",
    "\n",
    "fig, ax = plt.subplots()\n",
    "\n",
    "ax.plot(data_test['time'], data_test['d0'], marker='o', linestyle='-')\n",
    "\n",
    "ax.set_xlabel('Time')\n",
    "ax.set_ylabel('d0')\n",
    "ax.set_title('Time vs. d0')\n",
    "\n",
    "plt.xticks(rotation=50)\n",
    "\n",
    "plt.show()"
   ]
  },
  {
   "cell_type": "markdown",
   "id": "12299660",
   "metadata": {},
   "source": [
    "https://www.jagranjosh.com/general-knowledge/list-of-most-terrifying-solar-storms-that-hit-earth-1672338090-1\n",
    "checking anomalitys with this web it kinda matchs"
   ]
  },
  {
   "cell_type": "code",
   "execution_count": 178,
   "id": "04814d85",
   "metadata": {},
   "outputs": [
    {
     "data": {
      "text/plain": [
       "1150"
      ]
     },
     "execution_count": 178,
     "metadata": {},
     "output_type": "execute_result"
    }
   ],
   "source": [
    "data_test['x'].isnull().sum()"
   ]
  },
  {
   "cell_type": "code",
   "execution_count": 182,
   "id": "970a9157",
   "metadata": {},
   "outputs": [
    {
     "name": "stdout",
     "output_type": "stream",
     "text": [
      "kjn\n"
     ]
    }
   ],
   "source": [
    "import csv\n",
    "input_file = \"Astro_2022.txt\"\n",
    "output_file = \"kp_2122.csv\"\n",
    "delimiter = \"\\t\"  \n",
    "with open(input_file, 'r') as txt_file, open(output_file, 'w', newline='') as csv_file:\n",
    "    csv_writer = csv.writer(csv_file, delimiter=',')  \n",
    "    for line in txt_file:\n",
    "        fields = line.strip().split(delimiter)\n",
    "        csv_writer.writerow(fields)\n",
    "print(\"kjn\")"
   ]
  },
  {
   "cell_type": "code",
   "execution_count": 183,
   "id": "063a03d0",
   "metadata": {},
   "outputs": [
    {
     "data": {
      "text/plain": [
       "2919"
      ]
     },
     "execution_count": 183,
     "metadata": {},
     "output_type": "execute_result"
    }
   ],
   "source": [
    "data_test = pd.read_csv('Astro_2022.csv')\n",
    "\n",
    "df = pd.read_csv('kp_2122.csv')\n",
    "df.columns = ['Column1']\n",
    "kp = pd.DataFrame({'kp_val': df['Column1'].str[-12:-7]})\n",
    "len(kp)"
   ]
  },
  {
   "cell_type": "code",
   "execution_count": 184,
   "id": "5b91e9cb",
   "metadata": {},
   "outputs": [],
   "source": [
    "i = 0\n",
    "new_column_values = []\n",
    "count = 0\n",
    "while count < 111:\n",
    "    new_column_values.append(2.333)\n",
    "    count += 1\n",
    "count = 0\n",
    "while count < 69:\n",
    "    new_column_values.append(0)\n",
    "    count += 1\n",
    "while i < len(kp):\n",
    "    count = 0\n",
    "    while count < 111:\n",
    "        new_column_values.append(kp['kp_val'][i])\n",
    "        count += 1\n",
    "    count = 0\n",
    "    while count < 69:\n",
    "        new_column_values.append(0)\n",
    "        count += 1\n",
    "    i += 1\n",
    "\n",
    "data_test['kp_val'] = new_column_values"
   ]
  },
  {
   "cell_type": "code",
   "execution_count": 186,
   "id": "8df4edbe",
   "metadata": {},
   "outputs": [],
   "source": [
    "data_test_new = data_test\n",
    "data_test_new.fillna(0, inplace=True)\n",
    "data_test_new.to_csv('Astro_2022_new.csv', index=False)"
   ]
  },
  {
   "cell_type": "code",
   "execution_count": 188,
   "id": "b0adddcf",
   "metadata": {},
   "outputs": [],
   "source": [
    "z=['x','y','z']"
   ]
  },
  {
   "cell_type": "code",
   "execution_count": 194,
   "id": "1c992fc0",
   "metadata": {},
   "outputs": [],
   "source": [
    "from sklearn.impute import KNNImputer\n",
    "for i in z:\n",
    "    imputer = KNNImputer(n_neighbors=5)\n",
    "    data_test_new[i] = imputer.fit_transform(data_test_new[[i]])"
   ]
  },
  {
   "cell_type": "code",
   "execution_count": 215,
   "id": "aff6e0e9",
   "metadata": {},
   "outputs": [
    {
     "name": "stdout",
     "output_type": "stream",
     "text": [
      "0\n"
     ]
    }
   ],
   "source": [
    "print(data_raw['y'].isnull().sum())"
   ]
  },
  {
   "cell_type": "code",
   "execution_count": 243,
   "id": "4f7da2e9",
   "metadata": {},
   "outputs": [
    {
     "name": "stderr",
     "output_type": "stream",
     "text": [
      "C:\\Users\\ADMIN\\AppData\\Local\\Temp\\ipykernel_16260\\3508978463.py:2: FutureWarning: The argument 'infer_datetime_format' is deprecated and will be removed in a future version. A strict version of it is now the default, see https://pandas.pydata.org/pdeps/0004-consistent-to-datetime-parsing.html. You can safely remove this argument.\n",
      "  data_raw = pd.read_csv(\"Astro_2022_new.csv\", \\\n"
     ]
    }
   ],
   "source": [
    "# data_raw=pd.read_csv('Astro_2022_new.csv')\n",
    "data_raw = pd.read_csv(\"Astro_2022_new.csv\", \\\n",
    "delimiter = ',', parse_dates=[0], \\\n",
    "infer_datetime_format=True, na_values='0')"
   ]
  },
  {
   "cell_type": "code",
   "execution_count": 244,
   "id": "36410d67",
   "metadata": {},
   "outputs": [],
   "source": [
    "l = []\n",
    "l.append(\"time\")\n",
    "l.append(\"x\")\n",
    "l.append(\"y\")\n",
    "l.append(\"z\")\n",
    "i =4\n",
    "while i < 34:\n",
    "    l.append(\"d\" + str(i - 4))\n",
    "    i += 1"
   ]
  },
  {
   "cell_type": "code",
   "execution_count": 246,
   "id": "ba4b0712",
   "metadata": {},
   "outputs": [],
   "source": [
    "data_raw.columns = l"
   ]
  },
  {
   "cell_type": "code",
   "execution_count": 247,
   "id": "a1c075ad",
   "metadata": {
    "collapsed": true
   },
   "outputs": [
    {
     "data": {
      "text/html": [
       "<div>\n",
       "<style scoped>\n",
       "    .dataframe tbody tr th:only-of-type {\n",
       "        vertical-align: middle;\n",
       "    }\n",
       "\n",
       "    .dataframe tbody tr th {\n",
       "        vertical-align: top;\n",
       "    }\n",
       "\n",
       "    .dataframe thead th {\n",
       "        text-align: right;\n",
       "    }\n",
       "</style>\n",
       "<table border=\"1\" class=\"dataframe\">\n",
       "  <thead>\n",
       "    <tr style=\"text-align: right;\">\n",
       "      <th></th>\n",
       "      <th>time</th>\n",
       "      <th>x</th>\n",
       "      <th>y</th>\n",
       "      <th>z</th>\n",
       "      <th>d0</th>\n",
       "      <th>d1</th>\n",
       "      <th>d2</th>\n",
       "      <th>d3</th>\n",
       "      <th>d4</th>\n",
       "      <th>d5</th>\n",
       "      <th>...</th>\n",
       "      <th>d20</th>\n",
       "      <th>d21</th>\n",
       "      <th>d22</th>\n",
       "      <th>d23</th>\n",
       "      <th>d24</th>\n",
       "      <th>d25</th>\n",
       "      <th>d26</th>\n",
       "      <th>d27</th>\n",
       "      <th>d28</th>\n",
       "      <th>d29</th>\n",
       "    </tr>\n",
       "  </thead>\n",
       "  <tbody>\n",
       "    <tr>\n",
       "      <th>0</th>\n",
       "      <td>2022-01-01 00:00:00</td>\n",
       "      <td>-6.17170</td>\n",
       "      <td>1.124830</td>\n",
       "      <td>-4.902280</td>\n",
       "      <td>38.0314</td>\n",
       "      <td>0.231726</td>\n",
       "      <td>46.042700</td>\n",
       "      <td>44.974300</td>\n",
       "      <td>55.91430</td>\n",
       "      <td>43.706900</td>\n",
       "      <td>...</td>\n",
       "      <td>410.064</td>\n",
       "      <td>394.014</td>\n",
       "      <td>356.120</td>\n",
       "      <td>315.868</td>\n",
       "      <td>365.553</td>\n",
       "      <td>292.860</td>\n",
       "      <td>NaN</td>\n",
       "      <td>NaN</td>\n",
       "      <td>NaN</td>\n",
       "      <td>2.333</td>\n",
       "    </tr>\n",
       "    <tr>\n",
       "      <th>1</th>\n",
       "      <td>2022-01-01 00:01:00</td>\n",
       "      <td>-6.28883</td>\n",
       "      <td>1.233130</td>\n",
       "      <td>-4.790010</td>\n",
       "      <td>38.3868</td>\n",
       "      <td>0.231726</td>\n",
       "      <td>45.525700</td>\n",
       "      <td>46.258700</td>\n",
       "      <td>55.14280</td>\n",
       "      <td>43.276800</td>\n",
       "      <td>...</td>\n",
       "      <td>410.674</td>\n",
       "      <td>394.842</td>\n",
       "      <td>355.196</td>\n",
       "      <td>311.962</td>\n",
       "      <td>361.511</td>\n",
       "      <td>294.536</td>\n",
       "      <td>NaN</td>\n",
       "      <td>NaN</td>\n",
       "      <td>NaN</td>\n",
       "      <td>2.333</td>\n",
       "    </tr>\n",
       "    <tr>\n",
       "      <th>2</th>\n",
       "      <td>2022-01-01 00:02:00</td>\n",
       "      <td>-6.11811</td>\n",
       "      <td>0.871923</td>\n",
       "      <td>-5.128300</td>\n",
       "      <td>37.5636</td>\n",
       "      <td>0.231726</td>\n",
       "      <td>45.195500</td>\n",
       "      <td>46.822200</td>\n",
       "      <td>55.74840</td>\n",
       "      <td>42.789400</td>\n",
       "      <td>...</td>\n",
       "      <td>418.128</td>\n",
       "      <td>406.183</td>\n",
       "      <td>358.275</td>\n",
       "      <td>313.288</td>\n",
       "      <td>364.361</td>\n",
       "      <td>293.292</td>\n",
       "      <td>372.4150</td>\n",
       "      <td>NaN</td>\n",
       "      <td>NaN</td>\n",
       "      <td>2.333</td>\n",
       "    </tr>\n",
       "    <tr>\n",
       "      <th>3</th>\n",
       "      <td>2022-01-01 00:03:00</td>\n",
       "      <td>-6.28704</td>\n",
       "      <td>1.249870</td>\n",
       "      <td>-4.766400</td>\n",
       "      <td>38.1094</td>\n",
       "      <td>0.242084</td>\n",
       "      <td>46.708300</td>\n",
       "      <td>47.171300</td>\n",
       "      <td>53.53800</td>\n",
       "      <td>42.155800</td>\n",
       "      <td>...</td>\n",
       "      <td>414.930</td>\n",
       "      <td>407.771</td>\n",
       "      <td>357.414</td>\n",
       "      <td>312.958</td>\n",
       "      <td>360.940</td>\n",
       "      <td>289.523</td>\n",
       "      <td>372.4490</td>\n",
       "      <td>NaN</td>\n",
       "      <td>NaN</td>\n",
       "      <td>2.333</td>\n",
       "    </tr>\n",
       "    <tr>\n",
       "      <th>4</th>\n",
       "      <td>2022-01-01 00:04:00</td>\n",
       "      <td>-6.42125</td>\n",
       "      <td>1.171560</td>\n",
       "      <td>-4.532300</td>\n",
       "      <td>37.5893</td>\n",
       "      <td>0.231726</td>\n",
       "      <td>47.488800</td>\n",
       "      <td>45.323400</td>\n",
       "      <td>54.54040</td>\n",
       "      <td>44.277300</td>\n",
       "      <td>...</td>\n",
       "      <td>401.891</td>\n",
       "      <td>382.215</td>\n",
       "      <td>354.552</td>\n",
       "      <td>316.094</td>\n",
       "      <td>365.979</td>\n",
       "      <td>291.441</td>\n",
       "      <td>371.2435</td>\n",
       "      <td>NaN</td>\n",
       "      <td>NaN</td>\n",
       "      <td>2.333</td>\n",
       "    </tr>\n",
       "    <tr>\n",
       "      <th>...</th>\n",
       "      <td>...</td>\n",
       "      <td>...</td>\n",
       "      <td>...</td>\n",
       "      <td>...</td>\n",
       "      <td>...</td>\n",
       "      <td>...</td>\n",
       "      <td>...</td>\n",
       "      <td>...</td>\n",
       "      <td>...</td>\n",
       "      <td>...</td>\n",
       "      <td>...</td>\n",
       "      <td>...</td>\n",
       "      <td>...</td>\n",
       "      <td>...</td>\n",
       "      <td>...</td>\n",
       "      <td>...</td>\n",
       "      <td>...</td>\n",
       "      <td>...</td>\n",
       "      <td>...</td>\n",
       "      <td>...</td>\n",
       "      <td>...</td>\n",
       "    </tr>\n",
       "    <tr>\n",
       "      <th>525595</th>\n",
       "      <td>2022-12-31 23:55:00</td>\n",
       "      <td>-1.95967</td>\n",
       "      <td>4.958450</td>\n",
       "      <td>-1.202990</td>\n",
       "      <td>44.4151</td>\n",
       "      <td>0.231726</td>\n",
       "      <td>0.231726</td>\n",
       "      <td>5.561450</td>\n",
       "      <td>16.87790</td>\n",
       "      <td>0.231726</td>\n",
       "      <td>...</td>\n",
       "      <td>306.559</td>\n",
       "      <td>328.288</td>\n",
       "      <td>426.053</td>\n",
       "      <td>406.802</td>\n",
       "      <td>373.910</td>\n",
       "      <td>351.469</td>\n",
       "      <td>514.0260</td>\n",
       "      <td>535.921</td>\n",
       "      <td>499.976</td>\n",
       "      <td>NaN</td>\n",
       "    </tr>\n",
       "    <tr>\n",
       "      <th>525596</th>\n",
       "      <td>2022-12-31 23:56:00</td>\n",
       "      <td>-1.82694</td>\n",
       "      <td>4.650830</td>\n",
       "      <td>0.351759</td>\n",
       "      <td>38.3516</td>\n",
       "      <td>0.231726</td>\n",
       "      <td>0.231726</td>\n",
       "      <td>17.396800</td>\n",
       "      <td>12.84820</td>\n",
       "      <td>0.231726</td>\n",
       "      <td>...</td>\n",
       "      <td>268.665</td>\n",
       "      <td>358.915</td>\n",
       "      <td>449.083</td>\n",
       "      <td>366.112</td>\n",
       "      <td>358.283</td>\n",
       "      <td>397.739</td>\n",
       "      <td>534.6590</td>\n",
       "      <td>488.040</td>\n",
       "      <td>464.402</td>\n",
       "      <td>NaN</td>\n",
       "    </tr>\n",
       "    <tr>\n",
       "      <th>525597</th>\n",
       "      <td>2022-12-31 23:57:00</td>\n",
       "      <td>-3.77304</td>\n",
       "      <td>3.876940</td>\n",
       "      <td>0.440392</td>\n",
       "      <td>20.2907</td>\n",
       "      <td>0.231726</td>\n",
       "      <td>0.246122</td>\n",
       "      <td>0.885469</td>\n",
       "      <td>9.77093</td>\n",
       "      <td>0.231726</td>\n",
       "      <td>...</td>\n",
       "      <td>316.392</td>\n",
       "      <td>351.851</td>\n",
       "      <td>415.313</td>\n",
       "      <td>394.798</td>\n",
       "      <td>404.817</td>\n",
       "      <td>433.536</td>\n",
       "      <td>568.9320</td>\n",
       "      <td>555.542</td>\n",
       "      <td>465.178</td>\n",
       "      <td>NaN</td>\n",
       "    </tr>\n",
       "    <tr>\n",
       "      <th>525598</th>\n",
       "      <td>2022-12-31 23:58:00</td>\n",
       "      <td>-3.18466</td>\n",
       "      <td>4.436660</td>\n",
       "      <td>1.084170</td>\n",
       "      <td>54.5463</td>\n",
       "      <td>0.231726</td>\n",
       "      <td>0.678061</td>\n",
       "      <td>1.230790</td>\n",
       "      <td>26.98440</td>\n",
       "      <td>0.231726</td>\n",
       "      <td>...</td>\n",
       "      <td>296.608</td>\n",
       "      <td>338.812</td>\n",
       "      <td>436.507</td>\n",
       "      <td>394.229</td>\n",
       "      <td>376.596</td>\n",
       "      <td>400.484</td>\n",
       "      <td>572.5170</td>\n",
       "      <td>562.386</td>\n",
       "      <td>474.590</td>\n",
       "      <td>NaN</td>\n",
       "    </tr>\n",
       "    <tr>\n",
       "      <th>525599</th>\n",
       "      <td>2022-12-31 23:59:00</td>\n",
       "      <td>-3.04705</td>\n",
       "      <td>4.625160</td>\n",
       "      <td>-0.278954</td>\n",
       "      <td>60.5417</td>\n",
       "      <td>0.231726</td>\n",
       "      <td>1.955090</td>\n",
       "      <td>2.815340</td>\n",
       "      <td>29.45570</td>\n",
       "      <td>0.231726</td>\n",
       "      <td>...</td>\n",
       "      <td>307.244</td>\n",
       "      <td>327.596</td>\n",
       "      <td>428.556</td>\n",
       "      <td>405.869</td>\n",
       "      <td>377.157</td>\n",
       "      <td>386.223</td>\n",
       "      <td>561.2740</td>\n",
       "      <td>566.963</td>\n",
       "      <td>483.995</td>\n",
       "      <td>NaN</td>\n",
       "    </tr>\n",
       "  </tbody>\n",
       "</table>\n",
       "<p>525600 rows × 34 columns</p>\n",
       "</div>"
      ],
      "text/plain": [
       "                      time        x         y         z       d0        d1   \n",
       "0      2022-01-01 00:00:00 -6.17170  1.124830 -4.902280  38.0314  0.231726  \\\n",
       "1      2022-01-01 00:01:00 -6.28883  1.233130 -4.790010  38.3868  0.231726   \n",
       "2      2022-01-01 00:02:00 -6.11811  0.871923 -5.128300  37.5636  0.231726   \n",
       "3      2022-01-01 00:03:00 -6.28704  1.249870 -4.766400  38.1094  0.242084   \n",
       "4      2022-01-01 00:04:00 -6.42125  1.171560 -4.532300  37.5893  0.231726   \n",
       "...                    ...      ...       ...       ...      ...       ...   \n",
       "525595 2022-12-31 23:55:00 -1.95967  4.958450 -1.202990  44.4151  0.231726   \n",
       "525596 2022-12-31 23:56:00 -1.82694  4.650830  0.351759  38.3516  0.231726   \n",
       "525597 2022-12-31 23:57:00 -3.77304  3.876940  0.440392  20.2907  0.231726   \n",
       "525598 2022-12-31 23:58:00 -3.18466  4.436660  1.084170  54.5463  0.231726   \n",
       "525599 2022-12-31 23:59:00 -3.04705  4.625160 -0.278954  60.5417  0.231726   \n",
       "\n",
       "               d2         d3        d4         d5  ...      d20      d21   \n",
       "0       46.042700  44.974300  55.91430  43.706900  ...  410.064  394.014  \\\n",
       "1       45.525700  46.258700  55.14280  43.276800  ...  410.674  394.842   \n",
       "2       45.195500  46.822200  55.74840  42.789400  ...  418.128  406.183   \n",
       "3       46.708300  47.171300  53.53800  42.155800  ...  414.930  407.771   \n",
       "4       47.488800  45.323400  54.54040  44.277300  ...  401.891  382.215   \n",
       "...           ...        ...       ...        ...  ...      ...      ...   \n",
       "525595   0.231726   5.561450  16.87790   0.231726  ...  306.559  328.288   \n",
       "525596   0.231726  17.396800  12.84820   0.231726  ...  268.665  358.915   \n",
       "525597   0.246122   0.885469   9.77093   0.231726  ...  316.392  351.851   \n",
       "525598   0.678061   1.230790  26.98440   0.231726  ...  296.608  338.812   \n",
       "525599   1.955090   2.815340  29.45570   0.231726  ...  307.244  327.596   \n",
       "\n",
       "            d22      d23      d24      d25       d26      d27      d28    d29  \n",
       "0       356.120  315.868  365.553  292.860       NaN      NaN      NaN  2.333  \n",
       "1       355.196  311.962  361.511  294.536       NaN      NaN      NaN  2.333  \n",
       "2       358.275  313.288  364.361  293.292  372.4150      NaN      NaN  2.333  \n",
       "3       357.414  312.958  360.940  289.523  372.4490      NaN      NaN  2.333  \n",
       "4       354.552  316.094  365.979  291.441  371.2435      NaN      NaN  2.333  \n",
       "...         ...      ...      ...      ...       ...      ...      ...    ...  \n",
       "525595  426.053  406.802  373.910  351.469  514.0260  535.921  499.976    NaN  \n",
       "525596  449.083  366.112  358.283  397.739  534.6590  488.040  464.402    NaN  \n",
       "525597  415.313  394.798  404.817  433.536  568.9320  555.542  465.178    NaN  \n",
       "525598  436.507  394.229  376.596  400.484  572.5170  562.386  474.590    NaN  \n",
       "525599  428.556  405.869  377.157  386.223  561.2740  566.963  483.995    NaN  \n",
       "\n",
       "[525600 rows x 34 columns]"
      ]
     },
     "execution_count": 247,
     "metadata": {},
     "output_type": "execute_result"
    }
   ],
   "source": [
    "data_raw"
   ]
  },
  {
   "cell_type": "code",
   "execution_count": 253,
   "id": "0ecd38b4",
   "metadata": {},
   "outputs": [
    {
     "name": "stdout",
     "output_type": "stream",
     "text": [
      "1150\n",
      "1150\n"
     ]
    }
   ],
   "source": [
    "print(data_raw['y'].isnull().sum())\n",
    "print(data_raw['z'].isnull().sum())"
   ]
  },
  {
   "cell_type": "code",
   "execution_count": 254,
   "id": "2abdb3d7",
   "metadata": {},
   "outputs": [],
   "source": [
    "# for i in z:\n",
    "imputer = KNNImputer(n_neighbors=5)\n",
    "data_raw['y'] = imputer.fit_transform(data_raw[['y']])\n",
    "data_raw['z'] = imputer.fit_transform(data_raw[['z']])"
   ]
  },
  {
   "cell_type": "code",
   "execution_count": 255,
   "id": "a40d2c49",
   "metadata": {},
   "outputs": [
    {
     "name": "stdout",
     "output_type": "stream",
     "text": [
      "0\n",
      "0\n"
     ]
    }
   ],
   "source": [
    "print(data_raw['y'].isnull().sum())\n",
    "print(data_raw['z'].isnull().sum())"
   ]
  },
  {
   "cell_type": "code",
   "execution_count": 265,
   "id": "df5413c5",
   "metadata": {},
   "outputs": [
    {
     "name": "stdout",
     "output_type": "stream",
     "text": [
      "35\n"
     ]
    }
   ],
   "source": [
    "print(data_raw['d28'].isnull().sum())"
   ]
  },
  {
   "cell_type": "code",
   "execution_count": 266,
   "id": "7adfc6d5",
   "metadata": {},
   "outputs": [],
   "source": [
    "data_raw['d29'].interpolate(method='linear', inplace=True)"
   ]
  },
  {
   "cell_type": "code",
   "execution_count": 267,
   "id": "c44042a7",
   "metadata": {
    "collapsed": true
   },
   "outputs": [
    {
     "ename": "PermissionError",
     "evalue": "[Errno 13] Permission denied: 'Astro_2022_new.csv'",
     "output_type": "error",
     "traceback": [
      "\u001b[1;31m---------------------------------------------------------------------------\u001b[0m",
      "\u001b[1;31mPermissionError\u001b[0m                           Traceback (most recent call last)",
      "Cell \u001b[1;32mIn[267], line 1\u001b[0m\n\u001b[1;32m----> 1\u001b[0m \u001b[43mdata_raw\u001b[49m\u001b[38;5;241;43m.\u001b[39;49m\u001b[43mto_csv\u001b[49m\u001b[43m(\u001b[49m\u001b[38;5;124;43m'\u001b[39;49m\u001b[38;5;124;43mAstro_2022_new.csv\u001b[39;49m\u001b[38;5;124;43m'\u001b[39;49m\u001b[43m,\u001b[49m\u001b[43m \u001b[49m\u001b[43mindex\u001b[49m\u001b[38;5;241;43m=\u001b[39;49m\u001b[38;5;28;43;01mFalse\u001b[39;49;00m\u001b[43m)\u001b[49m\n",
      "File \u001b[1;32m~\\AppData\\Local\\Programs\\Python\\Python311\\Lib\\site-packages\\pandas\\core\\generic.py:3772\u001b[0m, in \u001b[0;36mNDFrame.to_csv\u001b[1;34m(self, path_or_buf, sep, na_rep, float_format, columns, header, index, index_label, mode, encoding, compression, quoting, quotechar, lineterminator, chunksize, date_format, doublequote, escapechar, decimal, errors, storage_options)\u001b[0m\n\u001b[0;32m   3761\u001b[0m df \u001b[38;5;241m=\u001b[39m \u001b[38;5;28mself\u001b[39m \u001b[38;5;28;01mif\u001b[39;00m \u001b[38;5;28misinstance\u001b[39m(\u001b[38;5;28mself\u001b[39m, ABCDataFrame) \u001b[38;5;28;01melse\u001b[39;00m \u001b[38;5;28mself\u001b[39m\u001b[38;5;241m.\u001b[39mto_frame()\n\u001b[0;32m   3763\u001b[0m formatter \u001b[38;5;241m=\u001b[39m DataFrameFormatter(\n\u001b[0;32m   3764\u001b[0m     frame\u001b[38;5;241m=\u001b[39mdf,\n\u001b[0;32m   3765\u001b[0m     header\u001b[38;5;241m=\u001b[39mheader,\n\u001b[1;32m   (...)\u001b[0m\n\u001b[0;32m   3769\u001b[0m     decimal\u001b[38;5;241m=\u001b[39mdecimal,\n\u001b[0;32m   3770\u001b[0m )\n\u001b[1;32m-> 3772\u001b[0m \u001b[38;5;28;01mreturn\u001b[39;00m \u001b[43mDataFrameRenderer\u001b[49m\u001b[43m(\u001b[49m\u001b[43mformatter\u001b[49m\u001b[43m)\u001b[49m\u001b[38;5;241;43m.\u001b[39;49m\u001b[43mto_csv\u001b[49m\u001b[43m(\u001b[49m\n\u001b[0;32m   3773\u001b[0m \u001b[43m    \u001b[49m\u001b[43mpath_or_buf\u001b[49m\u001b[43m,\u001b[49m\n\u001b[0;32m   3774\u001b[0m \u001b[43m    \u001b[49m\u001b[43mlineterminator\u001b[49m\u001b[38;5;241;43m=\u001b[39;49m\u001b[43mlineterminator\u001b[49m\u001b[43m,\u001b[49m\n\u001b[0;32m   3775\u001b[0m \u001b[43m    \u001b[49m\u001b[43msep\u001b[49m\u001b[38;5;241;43m=\u001b[39;49m\u001b[43msep\u001b[49m\u001b[43m,\u001b[49m\n\u001b[0;32m   3776\u001b[0m \u001b[43m    \u001b[49m\u001b[43mencoding\u001b[49m\u001b[38;5;241;43m=\u001b[39;49m\u001b[43mencoding\u001b[49m\u001b[43m,\u001b[49m\n\u001b[0;32m   3777\u001b[0m \u001b[43m    \u001b[49m\u001b[43merrors\u001b[49m\u001b[38;5;241;43m=\u001b[39;49m\u001b[43merrors\u001b[49m\u001b[43m,\u001b[49m\n\u001b[0;32m   3778\u001b[0m \u001b[43m    \u001b[49m\u001b[43mcompression\u001b[49m\u001b[38;5;241;43m=\u001b[39;49m\u001b[43mcompression\u001b[49m\u001b[43m,\u001b[49m\n\u001b[0;32m   3779\u001b[0m \u001b[43m    \u001b[49m\u001b[43mquoting\u001b[49m\u001b[38;5;241;43m=\u001b[39;49m\u001b[43mquoting\u001b[49m\u001b[43m,\u001b[49m\n\u001b[0;32m   3780\u001b[0m \u001b[43m    \u001b[49m\u001b[43mcolumns\u001b[49m\u001b[38;5;241;43m=\u001b[39;49m\u001b[43mcolumns\u001b[49m\u001b[43m,\u001b[49m\n\u001b[0;32m   3781\u001b[0m \u001b[43m    \u001b[49m\u001b[43mindex_label\u001b[49m\u001b[38;5;241;43m=\u001b[39;49m\u001b[43mindex_label\u001b[49m\u001b[43m,\u001b[49m\n\u001b[0;32m   3782\u001b[0m \u001b[43m    \u001b[49m\u001b[43mmode\u001b[49m\u001b[38;5;241;43m=\u001b[39;49m\u001b[43mmode\u001b[49m\u001b[43m,\u001b[49m\n\u001b[0;32m   3783\u001b[0m \u001b[43m    \u001b[49m\u001b[43mchunksize\u001b[49m\u001b[38;5;241;43m=\u001b[39;49m\u001b[43mchunksize\u001b[49m\u001b[43m,\u001b[49m\n\u001b[0;32m   3784\u001b[0m \u001b[43m    \u001b[49m\u001b[43mquotechar\u001b[49m\u001b[38;5;241;43m=\u001b[39;49m\u001b[43mquotechar\u001b[49m\u001b[43m,\u001b[49m\n\u001b[0;32m   3785\u001b[0m \u001b[43m    \u001b[49m\u001b[43mdate_format\u001b[49m\u001b[38;5;241;43m=\u001b[39;49m\u001b[43mdate_format\u001b[49m\u001b[43m,\u001b[49m\n\u001b[0;32m   3786\u001b[0m \u001b[43m    \u001b[49m\u001b[43mdoublequote\u001b[49m\u001b[38;5;241;43m=\u001b[39;49m\u001b[43mdoublequote\u001b[49m\u001b[43m,\u001b[49m\n\u001b[0;32m   3787\u001b[0m \u001b[43m    \u001b[49m\u001b[43mescapechar\u001b[49m\u001b[38;5;241;43m=\u001b[39;49m\u001b[43mescapechar\u001b[49m\u001b[43m,\u001b[49m\n\u001b[0;32m   3788\u001b[0m \u001b[43m    \u001b[49m\u001b[43mstorage_options\u001b[49m\u001b[38;5;241;43m=\u001b[39;49m\u001b[43mstorage_options\u001b[49m\u001b[43m,\u001b[49m\n\u001b[0;32m   3789\u001b[0m \u001b[43m\u001b[49m\u001b[43m)\u001b[49m\n",
      "File \u001b[1;32m~\\AppData\\Local\\Programs\\Python\\Python311\\Lib\\site-packages\\pandas\\io\\formats\\format.py:1186\u001b[0m, in \u001b[0;36mDataFrameRenderer.to_csv\u001b[1;34m(self, path_or_buf, encoding, sep, columns, index_label, mode, compression, quoting, quotechar, lineterminator, chunksize, date_format, doublequote, escapechar, errors, storage_options)\u001b[0m\n\u001b[0;32m   1165\u001b[0m     created_buffer \u001b[38;5;241m=\u001b[39m \u001b[38;5;28;01mFalse\u001b[39;00m\n\u001b[0;32m   1167\u001b[0m csv_formatter \u001b[38;5;241m=\u001b[39m CSVFormatter(\n\u001b[0;32m   1168\u001b[0m     path_or_buf\u001b[38;5;241m=\u001b[39mpath_or_buf,\n\u001b[0;32m   1169\u001b[0m     lineterminator\u001b[38;5;241m=\u001b[39mlineterminator,\n\u001b[1;32m   (...)\u001b[0m\n\u001b[0;32m   1184\u001b[0m     formatter\u001b[38;5;241m=\u001b[39m\u001b[38;5;28mself\u001b[39m\u001b[38;5;241m.\u001b[39mfmt,\n\u001b[0;32m   1185\u001b[0m )\n\u001b[1;32m-> 1186\u001b[0m \u001b[43mcsv_formatter\u001b[49m\u001b[38;5;241;43m.\u001b[39;49m\u001b[43msave\u001b[49m\u001b[43m(\u001b[49m\u001b[43m)\u001b[49m\n\u001b[0;32m   1188\u001b[0m \u001b[38;5;28;01mif\u001b[39;00m created_buffer:\n\u001b[0;32m   1189\u001b[0m     \u001b[38;5;28;01massert\u001b[39;00m \u001b[38;5;28misinstance\u001b[39m(path_or_buf, StringIO)\n",
      "File \u001b[1;32m~\\AppData\\Local\\Programs\\Python\\Python311\\Lib\\site-packages\\pandas\\io\\formats\\csvs.py:240\u001b[0m, in \u001b[0;36mCSVFormatter.save\u001b[1;34m(self)\u001b[0m\n\u001b[0;32m    236\u001b[0m \u001b[38;5;250m\u001b[39m\u001b[38;5;124;03m\"\"\"\u001b[39;00m\n\u001b[0;32m    237\u001b[0m \u001b[38;5;124;03mCreate the writer & save.\u001b[39;00m\n\u001b[0;32m    238\u001b[0m \u001b[38;5;124;03m\"\"\"\u001b[39;00m\n\u001b[0;32m    239\u001b[0m \u001b[38;5;66;03m# apply compression and byte/text conversion\u001b[39;00m\n\u001b[1;32m--> 240\u001b[0m \u001b[38;5;28;01mwith\u001b[39;00m \u001b[43mget_handle\u001b[49m\u001b[43m(\u001b[49m\n\u001b[0;32m    241\u001b[0m \u001b[43m    \u001b[49m\u001b[38;5;28;43mself\u001b[39;49m\u001b[38;5;241;43m.\u001b[39;49m\u001b[43mfilepath_or_buffer\u001b[49m\u001b[43m,\u001b[49m\n\u001b[0;32m    242\u001b[0m \u001b[43m    \u001b[49m\u001b[38;5;28;43mself\u001b[39;49m\u001b[38;5;241;43m.\u001b[39;49m\u001b[43mmode\u001b[49m\u001b[43m,\u001b[49m\n\u001b[0;32m    243\u001b[0m \u001b[43m    \u001b[49m\u001b[43mencoding\u001b[49m\u001b[38;5;241;43m=\u001b[39;49m\u001b[38;5;28;43mself\u001b[39;49m\u001b[38;5;241;43m.\u001b[39;49m\u001b[43mencoding\u001b[49m\u001b[43m,\u001b[49m\n\u001b[0;32m    244\u001b[0m \u001b[43m    \u001b[49m\u001b[43merrors\u001b[49m\u001b[38;5;241;43m=\u001b[39;49m\u001b[38;5;28;43mself\u001b[39;49m\u001b[38;5;241;43m.\u001b[39;49m\u001b[43merrors\u001b[49m\u001b[43m,\u001b[49m\n\u001b[0;32m    245\u001b[0m \u001b[43m    \u001b[49m\u001b[43mcompression\u001b[49m\u001b[38;5;241;43m=\u001b[39;49m\u001b[38;5;28;43mself\u001b[39;49m\u001b[38;5;241;43m.\u001b[39;49m\u001b[43mcompression\u001b[49m\u001b[43m,\u001b[49m\n\u001b[0;32m    246\u001b[0m \u001b[43m    \u001b[49m\u001b[43mstorage_options\u001b[49m\u001b[38;5;241;43m=\u001b[39;49m\u001b[38;5;28;43mself\u001b[39;49m\u001b[38;5;241;43m.\u001b[39;49m\u001b[43mstorage_options\u001b[49m\u001b[43m,\u001b[49m\n\u001b[0;32m    247\u001b[0m \u001b[43m\u001b[49m\u001b[43m)\u001b[49m \u001b[38;5;28;01mas\u001b[39;00m handles:\n\u001b[0;32m    248\u001b[0m     \u001b[38;5;66;03m# Note: self.encoding is irrelevant here\u001b[39;00m\n\u001b[0;32m    249\u001b[0m     \u001b[38;5;28mself\u001b[39m\u001b[38;5;241m.\u001b[39mwriter \u001b[38;5;241m=\u001b[39m csvlib\u001b[38;5;241m.\u001b[39mwriter(\n\u001b[0;32m    250\u001b[0m         handles\u001b[38;5;241m.\u001b[39mhandle,\n\u001b[0;32m    251\u001b[0m         lineterminator\u001b[38;5;241m=\u001b[39m\u001b[38;5;28mself\u001b[39m\u001b[38;5;241m.\u001b[39mlineterminator,\n\u001b[1;32m   (...)\u001b[0m\n\u001b[0;32m    256\u001b[0m         quotechar\u001b[38;5;241m=\u001b[39m\u001b[38;5;28mself\u001b[39m\u001b[38;5;241m.\u001b[39mquotechar,\n\u001b[0;32m    257\u001b[0m     )\n\u001b[0;32m    259\u001b[0m     \u001b[38;5;28mself\u001b[39m\u001b[38;5;241m.\u001b[39m_save()\n",
      "File \u001b[1;32m~\\AppData\\Local\\Programs\\Python\\Python311\\Lib\\site-packages\\pandas\\io\\common.py:859\u001b[0m, in \u001b[0;36mget_handle\u001b[1;34m(path_or_buf, mode, encoding, compression, memory_map, is_text, errors, storage_options)\u001b[0m\n\u001b[0;32m    854\u001b[0m \u001b[38;5;28;01melif\u001b[39;00m \u001b[38;5;28misinstance\u001b[39m(handle, \u001b[38;5;28mstr\u001b[39m):\n\u001b[0;32m    855\u001b[0m     \u001b[38;5;66;03m# Check whether the filename is to be opened in binary mode.\u001b[39;00m\n\u001b[0;32m    856\u001b[0m     \u001b[38;5;66;03m# Binary mode does not support 'encoding' and 'newline'.\u001b[39;00m\n\u001b[0;32m    857\u001b[0m     \u001b[38;5;28;01mif\u001b[39;00m ioargs\u001b[38;5;241m.\u001b[39mencoding \u001b[38;5;129;01mand\u001b[39;00m \u001b[38;5;124m\"\u001b[39m\u001b[38;5;124mb\u001b[39m\u001b[38;5;124m\"\u001b[39m \u001b[38;5;129;01mnot\u001b[39;00m \u001b[38;5;129;01min\u001b[39;00m ioargs\u001b[38;5;241m.\u001b[39mmode:\n\u001b[0;32m    858\u001b[0m         \u001b[38;5;66;03m# Encoding\u001b[39;00m\n\u001b[1;32m--> 859\u001b[0m         handle \u001b[38;5;241m=\u001b[39m \u001b[38;5;28mopen\u001b[39m(\n\u001b[0;32m    860\u001b[0m             handle,\n\u001b[0;32m    861\u001b[0m             ioargs\u001b[38;5;241m.\u001b[39mmode,\n\u001b[0;32m    862\u001b[0m             encoding\u001b[38;5;241m=\u001b[39mioargs\u001b[38;5;241m.\u001b[39mencoding,\n\u001b[0;32m    863\u001b[0m             errors\u001b[38;5;241m=\u001b[39merrors,\n\u001b[0;32m    864\u001b[0m             newline\u001b[38;5;241m=\u001b[39m\u001b[38;5;124m\"\u001b[39m\u001b[38;5;124m\"\u001b[39m,\n\u001b[0;32m    865\u001b[0m         )\n\u001b[0;32m    866\u001b[0m     \u001b[38;5;28;01melse\u001b[39;00m:\n\u001b[0;32m    867\u001b[0m         \u001b[38;5;66;03m# Binary mode\u001b[39;00m\n\u001b[0;32m    868\u001b[0m         handle \u001b[38;5;241m=\u001b[39m \u001b[38;5;28mopen\u001b[39m(handle, ioargs\u001b[38;5;241m.\u001b[39mmode)\n",
      "\u001b[1;31mPermissionError\u001b[0m: [Errno 13] Permission denied: 'Astro_2022_new.csv'"
     ]
    }
   ],
   "source": [
    "# data_raw.to_csv('Astro_2022_new.csv', index=False)"
   ]
  },
  {
   "cell_type": "code",
   "execution_count": 262,
   "id": "119445b3",
   "metadata": {
    "collapsed": true
   },
   "outputs": [
    {
     "ename": "KeyError",
     "evalue": "'d29'",
     "output_type": "error",
     "traceback": [
      "\u001b[1;31m---------------------------------------------------------------------------\u001b[0m",
      "\u001b[1;31mKeyError\u001b[0m                                  Traceback (most recent call last)",
      "File \u001b[1;32m~\\AppData\\Local\\Programs\\Python\\Python311\\Lib\\site-packages\\pandas\\core\\indexes\\base.py:3652\u001b[0m, in \u001b[0;36mIndex.get_loc\u001b[1;34m(self, key)\u001b[0m\n\u001b[0;32m   3651\u001b[0m \u001b[38;5;28;01mtry\u001b[39;00m:\n\u001b[1;32m-> 3652\u001b[0m     \u001b[38;5;28;01mreturn\u001b[39;00m \u001b[38;5;28;43mself\u001b[39;49m\u001b[38;5;241;43m.\u001b[39;49m\u001b[43m_engine\u001b[49m\u001b[38;5;241;43m.\u001b[39;49m\u001b[43mget_loc\u001b[49m\u001b[43m(\u001b[49m\u001b[43mcasted_key\u001b[49m\u001b[43m)\u001b[49m\n\u001b[0;32m   3653\u001b[0m \u001b[38;5;28;01mexcept\u001b[39;00m \u001b[38;5;167;01mKeyError\u001b[39;00m \u001b[38;5;28;01mas\u001b[39;00m err:\n",
      "File \u001b[1;32m~\\AppData\\Local\\Programs\\Python\\Python311\\Lib\\site-packages\\pandas\\_libs\\index.pyx:147\u001b[0m, in \u001b[0;36mpandas._libs.index.IndexEngine.get_loc\u001b[1;34m()\u001b[0m\n",
      "File \u001b[1;32m~\\AppData\\Local\\Programs\\Python\\Python311\\Lib\\site-packages\\pandas\\_libs\\index.pyx:176\u001b[0m, in \u001b[0;36mpandas._libs.index.IndexEngine.get_loc\u001b[1;34m()\u001b[0m\n",
      "File \u001b[1;32mpandas\\_libs\\hashtable_class_helper.pxi:7080\u001b[0m, in \u001b[0;36mpandas._libs.hashtable.PyObjectHashTable.get_item\u001b[1;34m()\u001b[0m\n",
      "File \u001b[1;32mpandas\\_libs\\hashtable_class_helper.pxi:7088\u001b[0m, in \u001b[0;36mpandas._libs.hashtable.PyObjectHashTable.get_item\u001b[1;34m()\u001b[0m\n",
      "\u001b[1;31mKeyError\u001b[0m: 'd29'",
      "\nThe above exception was the direct cause of the following exception:\n",
      "\u001b[1;31mKeyError\u001b[0m                                  Traceback (most recent call last)",
      "Cell \u001b[1;32mIn[262], line 1\u001b[0m\n\u001b[1;32m----> 1\u001b[0m \u001b[38;5;28mmax\u001b[39m(\u001b[43mdata_test_new\u001b[49m\u001b[43m[\u001b[49m\u001b[38;5;124;43m'\u001b[39;49m\u001b[38;5;124;43md29\u001b[39;49m\u001b[38;5;124;43m'\u001b[39;49m\u001b[43m]\u001b[49m)\n",
      "File \u001b[1;32m~\\AppData\\Local\\Programs\\Python\\Python311\\Lib\\site-packages\\pandas\\core\\frame.py:3761\u001b[0m, in \u001b[0;36mDataFrame.__getitem__\u001b[1;34m(self, key)\u001b[0m\n\u001b[0;32m   3759\u001b[0m \u001b[38;5;28;01mif\u001b[39;00m \u001b[38;5;28mself\u001b[39m\u001b[38;5;241m.\u001b[39mcolumns\u001b[38;5;241m.\u001b[39mnlevels \u001b[38;5;241m>\u001b[39m \u001b[38;5;241m1\u001b[39m:\n\u001b[0;32m   3760\u001b[0m     \u001b[38;5;28;01mreturn\u001b[39;00m \u001b[38;5;28mself\u001b[39m\u001b[38;5;241m.\u001b[39m_getitem_multilevel(key)\n\u001b[1;32m-> 3761\u001b[0m indexer \u001b[38;5;241m=\u001b[39m \u001b[38;5;28;43mself\u001b[39;49m\u001b[38;5;241;43m.\u001b[39;49m\u001b[43mcolumns\u001b[49m\u001b[38;5;241;43m.\u001b[39;49m\u001b[43mget_loc\u001b[49m\u001b[43m(\u001b[49m\u001b[43mkey\u001b[49m\u001b[43m)\u001b[49m\n\u001b[0;32m   3762\u001b[0m \u001b[38;5;28;01mif\u001b[39;00m is_integer(indexer):\n\u001b[0;32m   3763\u001b[0m     indexer \u001b[38;5;241m=\u001b[39m [indexer]\n",
      "File \u001b[1;32m~\\AppData\\Local\\Programs\\Python\\Python311\\Lib\\site-packages\\pandas\\core\\indexes\\base.py:3654\u001b[0m, in \u001b[0;36mIndex.get_loc\u001b[1;34m(self, key)\u001b[0m\n\u001b[0;32m   3652\u001b[0m     \u001b[38;5;28;01mreturn\u001b[39;00m \u001b[38;5;28mself\u001b[39m\u001b[38;5;241m.\u001b[39m_engine\u001b[38;5;241m.\u001b[39mget_loc(casted_key)\n\u001b[0;32m   3653\u001b[0m \u001b[38;5;28;01mexcept\u001b[39;00m \u001b[38;5;167;01mKeyError\u001b[39;00m \u001b[38;5;28;01mas\u001b[39;00m err:\n\u001b[1;32m-> 3654\u001b[0m     \u001b[38;5;28;01mraise\u001b[39;00m \u001b[38;5;167;01mKeyError\u001b[39;00m(key) \u001b[38;5;28;01mfrom\u001b[39;00m \u001b[38;5;21;01merr\u001b[39;00m\n\u001b[0;32m   3655\u001b[0m \u001b[38;5;28;01mexcept\u001b[39;00m \u001b[38;5;167;01mTypeError\u001b[39;00m:\n\u001b[0;32m   3656\u001b[0m     \u001b[38;5;66;03m# If we have a listlike key, _check_indexing_error will raise\u001b[39;00m\n\u001b[0;32m   3657\u001b[0m     \u001b[38;5;66;03m#  InvalidIndexError. Otherwise we fall through and re-raise\u001b[39;00m\n\u001b[0;32m   3658\u001b[0m     \u001b[38;5;66;03m#  the TypeError.\u001b[39;00m\n\u001b[0;32m   3659\u001b[0m     \u001b[38;5;28mself\u001b[39m\u001b[38;5;241m.\u001b[39m_check_indexing_error(key)\n",
      "\u001b[1;31mKeyError\u001b[0m: 'd29'"
     ]
    }
   ],
   "source": [
    "max(data_test_new['d29'])"
   ]
  },
  {
   "cell_type": "code",
   "execution_count": 268,
   "id": "07847a11",
   "metadata": {
    "collapsed": true
   },
   "outputs": [
    {
     "name": "stderr",
     "output_type": "stream",
     "text": [
      "C:\\Users\\ADMIN\\AppData\\Local\\Temp\\ipykernel_16260\\3712095299.py:1: FutureWarning: The argument 'infer_datetime_format' is deprecated and will be removed in a future version. A strict version of it is now the default, see https://pandas.pydata.org/pdeps/0004-consistent-to-datetime-parsing.html. You can safely remove this argument.\n",
      "  data_raw = pd.read_csv(\"Astro_2022_new.csv\", \\\n"
     ]
    }
   ],
   "source": [
    "data_raw = pd.read_csv(\"Astro_2022_new.csv\", \\\n",
    "delimiter = ',', parse_dates=[0], \\\n",
    "infer_datetime_format=True, na_values='0')"
   ]
  },
  {
   "cell_type": "code",
   "execution_count": 270,
   "id": "8453a982",
   "metadata": {},
   "outputs": [
    {
     "data": {
      "text/plain": [
       "1046423.9714998899"
      ]
     },
     "execution_count": 270,
     "metadata": {},
     "output_type": "execute_result"
    }
   ],
   "source": [
    "sum(data_raw['d29'])"
   ]
  },
  {
   "cell_type": "code",
   "execution_count": 305,
   "id": "a2d56687",
   "metadata": {},
   "outputs": [],
   "source": [
    "data_raw = pd.read_csv('Astro_2022_new.csv')#, header = None"
   ]
  },
  {
   "cell_type": "code",
   "execution_count": 306,
   "id": "ab10d755",
   "metadata": {
    "collapsed": true
   },
   "outputs": [
    {
     "data": {
      "text/html": [
       "<div>\n",
       "<style scoped>\n",
       "    .dataframe tbody tr th:only-of-type {\n",
       "        vertical-align: middle;\n",
       "    }\n",
       "\n",
       "    .dataframe tbody tr th {\n",
       "        vertical-align: top;\n",
       "    }\n",
       "\n",
       "    .dataframe thead th {\n",
       "        text-align: right;\n",
       "    }\n",
       "</style>\n",
       "<table border=\"1\" class=\"dataframe\">\n",
       "  <thead>\n",
       "    <tr style=\"text-align: right;\">\n",
       "      <th></th>\n",
       "      <th>Unnamed: 0</th>\n",
       "      <th>time</th>\n",
       "      <th>x</th>\n",
       "      <th>y</th>\n",
       "      <th>z</th>\n",
       "      <th>d0</th>\n",
       "      <th>d1</th>\n",
       "      <th>d2</th>\n",
       "      <th>d3</th>\n",
       "      <th>d4</th>\n",
       "      <th>...</th>\n",
       "      <th>d21</th>\n",
       "      <th>d22</th>\n",
       "      <th>d23</th>\n",
       "      <th>d24</th>\n",
       "      <th>d25</th>\n",
       "      <th>d26</th>\n",
       "      <th>d27</th>\n",
       "      <th>d28</th>\n",
       "      <th>kp_val</th>\n",
       "      <th>geoStorm_01</th>\n",
       "    </tr>\n",
       "  </thead>\n",
       "  <tbody>\n",
       "    <tr>\n",
       "      <th>0</th>\n",
       "      <td>0</td>\n",
       "      <td>2022-01-01 00:00:00</td>\n",
       "      <td>-6.17170</td>\n",
       "      <td>1.124830</td>\n",
       "      <td>-4.90228</td>\n",
       "      <td>38.0314</td>\n",
       "      <td>0.231726</td>\n",
       "      <td>46.0427</td>\n",
       "      <td>44.9743</td>\n",
       "      <td>55.9143</td>\n",
       "      <td>...</td>\n",
       "      <td>394.014</td>\n",
       "      <td>356.120</td>\n",
       "      <td>315.868</td>\n",
       "      <td>365.553</td>\n",
       "      <td>292.860</td>\n",
       "      <td>0.0000</td>\n",
       "      <td>0.0</td>\n",
       "      <td>0.0</td>\n",
       "      <td>2.333</td>\n",
       "      <td>0</td>\n",
       "    </tr>\n",
       "    <tr>\n",
       "      <th>1</th>\n",
       "      <td>1</td>\n",
       "      <td>2022-01-01 00:01:00</td>\n",
       "      <td>-6.28883</td>\n",
       "      <td>1.233130</td>\n",
       "      <td>-4.79001</td>\n",
       "      <td>38.3868</td>\n",
       "      <td>0.231726</td>\n",
       "      <td>45.5257</td>\n",
       "      <td>46.2587</td>\n",
       "      <td>55.1428</td>\n",
       "      <td>...</td>\n",
       "      <td>394.842</td>\n",
       "      <td>355.196</td>\n",
       "      <td>311.962</td>\n",
       "      <td>361.511</td>\n",
       "      <td>294.536</td>\n",
       "      <td>0.0000</td>\n",
       "      <td>0.0</td>\n",
       "      <td>0.0</td>\n",
       "      <td>2.333</td>\n",
       "      <td>0</td>\n",
       "    </tr>\n",
       "    <tr>\n",
       "      <th>2</th>\n",
       "      <td>2</td>\n",
       "      <td>2022-01-01 00:02:00</td>\n",
       "      <td>-6.11811</td>\n",
       "      <td>0.871923</td>\n",
       "      <td>-5.12830</td>\n",
       "      <td>37.5636</td>\n",
       "      <td>0.231726</td>\n",
       "      <td>45.1955</td>\n",
       "      <td>46.8222</td>\n",
       "      <td>55.7484</td>\n",
       "      <td>...</td>\n",
       "      <td>406.183</td>\n",
       "      <td>358.275</td>\n",
       "      <td>313.288</td>\n",
       "      <td>364.361</td>\n",
       "      <td>293.292</td>\n",
       "      <td>372.4150</td>\n",
       "      <td>0.0</td>\n",
       "      <td>0.0</td>\n",
       "      <td>2.333</td>\n",
       "      <td>0</td>\n",
       "    </tr>\n",
       "    <tr>\n",
       "      <th>3</th>\n",
       "      <td>3</td>\n",
       "      <td>2022-01-01 00:03:00</td>\n",
       "      <td>-6.28704</td>\n",
       "      <td>1.249870</td>\n",
       "      <td>-4.76640</td>\n",
       "      <td>38.1094</td>\n",
       "      <td>0.242084</td>\n",
       "      <td>46.7083</td>\n",
       "      <td>47.1713</td>\n",
       "      <td>53.5380</td>\n",
       "      <td>...</td>\n",
       "      <td>407.771</td>\n",
       "      <td>357.414</td>\n",
       "      <td>312.958</td>\n",
       "      <td>360.940</td>\n",
       "      <td>289.523</td>\n",
       "      <td>372.4490</td>\n",
       "      <td>0.0</td>\n",
       "      <td>0.0</td>\n",
       "      <td>2.333</td>\n",
       "      <td>0</td>\n",
       "    </tr>\n",
       "    <tr>\n",
       "      <th>4</th>\n",
       "      <td>4</td>\n",
       "      <td>2022-01-01 00:04:00</td>\n",
       "      <td>-6.42125</td>\n",
       "      <td>1.171560</td>\n",
       "      <td>-4.53230</td>\n",
       "      <td>37.5893</td>\n",
       "      <td>0.231726</td>\n",
       "      <td>47.4888</td>\n",
       "      <td>45.3234</td>\n",
       "      <td>54.5404</td>\n",
       "      <td>...</td>\n",
       "      <td>382.215</td>\n",
       "      <td>354.552</td>\n",
       "      <td>316.094</td>\n",
       "      <td>365.979</td>\n",
       "      <td>291.441</td>\n",
       "      <td>371.2435</td>\n",
       "      <td>0.0</td>\n",
       "      <td>0.0</td>\n",
       "      <td>2.333</td>\n",
       "      <td>0</td>\n",
       "    </tr>\n",
       "  </tbody>\n",
       "</table>\n",
       "<p>5 rows × 36 columns</p>\n",
       "</div>"
      ],
      "text/plain": [
       "   Unnamed: 0                 time        x         y        z       d0   \n",
       "0           0  2022-01-01 00:00:00 -6.17170  1.124830 -4.90228  38.0314  \\\n",
       "1           1  2022-01-01 00:01:00 -6.28883  1.233130 -4.79001  38.3868   \n",
       "2           2  2022-01-01 00:02:00 -6.11811  0.871923 -5.12830  37.5636   \n",
       "3           3  2022-01-01 00:03:00 -6.28704  1.249870 -4.76640  38.1094   \n",
       "4           4  2022-01-01 00:04:00 -6.42125  1.171560 -4.53230  37.5893   \n",
       "\n",
       "         d1       d2       d3       d4  ...      d21      d22      d23   \n",
       "0  0.231726  46.0427  44.9743  55.9143  ...  394.014  356.120  315.868  \\\n",
       "1  0.231726  45.5257  46.2587  55.1428  ...  394.842  355.196  311.962   \n",
       "2  0.231726  45.1955  46.8222  55.7484  ...  406.183  358.275  313.288   \n",
       "3  0.242084  46.7083  47.1713  53.5380  ...  407.771  357.414  312.958   \n",
       "4  0.231726  47.4888  45.3234  54.5404  ...  382.215  354.552  316.094   \n",
       "\n",
       "       d24      d25       d26  d27  d28  kp_val  geoStorm_01  \n",
       "0  365.553  292.860    0.0000  0.0  0.0   2.333            0  \n",
       "1  361.511  294.536    0.0000  0.0  0.0   2.333            0  \n",
       "2  364.361  293.292  372.4150  0.0  0.0   2.333            0  \n",
       "3  360.940  289.523  372.4490  0.0  0.0   2.333            0  \n",
       "4  365.979  291.441  371.2435  0.0  0.0   2.333            0  \n",
       "\n",
       "[5 rows x 36 columns]"
      ]
     },
     "execution_count": 306,
     "metadata": {},
     "output_type": "execute_result"
    }
   ],
   "source": [
    "data_raw.head()"
   ]
  },
  {
   "cell_type": "code",
   "execution_count": 280,
   "id": "4c86f5eb",
   "metadata": {},
   "outputs": [],
   "source": [
    "# data_raw = data_raw.drop(0)  \n",
    "# l = []\n",
    "# l.append(\"time\")\n",
    "# l.append(\"x\")\n",
    "# l.append(\"y\")\n",
    "# l.append(\"z\")\n",
    "# i =4\n",
    "# while i < 33:\n",
    "#     l.append(\"d\" + str(i - 4))\n",
    "#     i += 1\n",
    "# l[-1]\n",
    "# l.append(\"kp_val\")"
   ]
  },
  {
   "cell_type": "code",
   "execution_count": 309,
   "id": "1d3e6299",
   "metadata": {},
   "outputs": [
    {
     "data": {
      "text/plain": [
       "Index(['time', 'x', 'y', 'z', 'd0', 'd1', 'd2', 'd3', 'd4', 'd5', 'd6', 'd7',\n",
       "       'd8', 'd9', 'd10', 'd11', 'd12', 'd13', 'd14', 'd15', 'd16', 'd17',\n",
       "       'd18', 'd19', 'd20', 'd21', 'd22', 'd23', 'd24', 'd25', 'd26', 'd27',\n",
       "       'd28', 'kp_val', 'geoStorm_01'],\n",
       "      dtype='object')"
      ]
     },
     "execution_count": 309,
     "metadata": {},
     "output_type": "execute_result"
    }
   ],
   "source": [
    "# data_raw.columns = l\n",
    "data_raw.columns"
   ]
  },
  {
   "cell_type": "code",
   "execution_count": 308,
   "id": "2331ddc2",
   "metadata": {
    "scrolled": false
   },
   "outputs": [],
   "source": [
    "data_raw = data_raw.drop(columns = 'Unnamed: 0', axis=1)"
   ]
  },
  {
   "cell_type": "code",
   "execution_count": 284,
   "id": "d680af98",
   "metadata": {},
   "outputs": [],
   "source": [
    "data_test_new.to_csv('Astro_2022_new.csv', index=False)"
   ]
  },
  {
   "cell_type": "code",
   "execution_count": 303,
   "id": "0ca39bc9",
   "metadata": {},
   "outputs": [],
   "source": [
    "geoStrorm_01 = []\n",
    "for i in range(len(data_raw)):\n",
    "    if(data_raw['kp_val'][i] >= 5):\n",
    "        geoStrorm_01.append(1)\n",
    "    else:\n",
    "        geoStrorm_01.append(0)\n",
    "data_raw['geoStorm_01'] = geoStrorm_01\n",
    "# data_raw.to_csv('Astro_2022_new.csv')"
   ]
  },
  {
   "cell_type": "code",
   "execution_count": 313,
   "id": "89d95133",
   "metadata": {},
   "outputs": [],
   "source": [
    "data_raw.to_csv('Astro_2022_new.csv',index=False)"
   ]
  },
  {
   "cell_type": "code",
   "execution_count": 311,
   "id": "73b1a5e1",
   "metadata": {
    "collapsed": true
   },
   "outputs": [
    {
     "data": {
      "text/html": [
       "<div>\n",
       "<style scoped>\n",
       "    .dataframe tbody tr th:only-of-type {\n",
       "        vertical-align: middle;\n",
       "    }\n",
       "\n",
       "    .dataframe tbody tr th {\n",
       "        vertical-align: top;\n",
       "    }\n",
       "\n",
       "    .dataframe thead th {\n",
       "        text-align: right;\n",
       "    }\n",
       "</style>\n",
       "<table border=\"1\" class=\"dataframe\">\n",
       "  <thead>\n",
       "    <tr style=\"text-align: right;\">\n",
       "      <th></th>\n",
       "      <th>time</th>\n",
       "      <th>x</th>\n",
       "      <th>y</th>\n",
       "      <th>z</th>\n",
       "      <th>d0</th>\n",
       "      <th>d1</th>\n",
       "      <th>d2</th>\n",
       "      <th>d3</th>\n",
       "      <th>d4</th>\n",
       "      <th>d5</th>\n",
       "      <th>...</th>\n",
       "      <th>d21</th>\n",
       "      <th>d22</th>\n",
       "      <th>d23</th>\n",
       "      <th>d24</th>\n",
       "      <th>d25</th>\n",
       "      <th>d26</th>\n",
       "      <th>d27</th>\n",
       "      <th>d28</th>\n",
       "      <th>kp_val</th>\n",
       "      <th>geoStorm_01</th>\n",
       "    </tr>\n",
       "  </thead>\n",
       "  <tbody>\n",
       "    <tr>\n",
       "      <th>0</th>\n",
       "      <td>2022-01-01 00:00:00</td>\n",
       "      <td>-6.17170</td>\n",
       "      <td>1.124830</td>\n",
       "      <td>-4.90228</td>\n",
       "      <td>38.0314</td>\n",
       "      <td>0.231726</td>\n",
       "      <td>46.0427</td>\n",
       "      <td>44.9743</td>\n",
       "      <td>55.9143</td>\n",
       "      <td>43.7069</td>\n",
       "      <td>...</td>\n",
       "      <td>394.014</td>\n",
       "      <td>356.120</td>\n",
       "      <td>315.868</td>\n",
       "      <td>365.553</td>\n",
       "      <td>292.860</td>\n",
       "      <td>0.0000</td>\n",
       "      <td>0.0</td>\n",
       "      <td>0.0</td>\n",
       "      <td>2.333</td>\n",
       "      <td>0</td>\n",
       "    </tr>\n",
       "    <tr>\n",
       "      <th>1</th>\n",
       "      <td>2022-01-01 00:01:00</td>\n",
       "      <td>-6.28883</td>\n",
       "      <td>1.233130</td>\n",
       "      <td>-4.79001</td>\n",
       "      <td>38.3868</td>\n",
       "      <td>0.231726</td>\n",
       "      <td>45.5257</td>\n",
       "      <td>46.2587</td>\n",
       "      <td>55.1428</td>\n",
       "      <td>43.2768</td>\n",
       "      <td>...</td>\n",
       "      <td>394.842</td>\n",
       "      <td>355.196</td>\n",
       "      <td>311.962</td>\n",
       "      <td>361.511</td>\n",
       "      <td>294.536</td>\n",
       "      <td>0.0000</td>\n",
       "      <td>0.0</td>\n",
       "      <td>0.0</td>\n",
       "      <td>2.333</td>\n",
       "      <td>0</td>\n",
       "    </tr>\n",
       "    <tr>\n",
       "      <th>2</th>\n",
       "      <td>2022-01-01 00:02:00</td>\n",
       "      <td>-6.11811</td>\n",
       "      <td>0.871923</td>\n",
       "      <td>-5.12830</td>\n",
       "      <td>37.5636</td>\n",
       "      <td>0.231726</td>\n",
       "      <td>45.1955</td>\n",
       "      <td>46.8222</td>\n",
       "      <td>55.7484</td>\n",
       "      <td>42.7894</td>\n",
       "      <td>...</td>\n",
       "      <td>406.183</td>\n",
       "      <td>358.275</td>\n",
       "      <td>313.288</td>\n",
       "      <td>364.361</td>\n",
       "      <td>293.292</td>\n",
       "      <td>372.4150</td>\n",
       "      <td>0.0</td>\n",
       "      <td>0.0</td>\n",
       "      <td>2.333</td>\n",
       "      <td>0</td>\n",
       "    </tr>\n",
       "    <tr>\n",
       "      <th>3</th>\n",
       "      <td>2022-01-01 00:03:00</td>\n",
       "      <td>-6.28704</td>\n",
       "      <td>1.249870</td>\n",
       "      <td>-4.76640</td>\n",
       "      <td>38.1094</td>\n",
       "      <td>0.242084</td>\n",
       "      <td>46.7083</td>\n",
       "      <td>47.1713</td>\n",
       "      <td>53.5380</td>\n",
       "      <td>42.1558</td>\n",
       "      <td>...</td>\n",
       "      <td>407.771</td>\n",
       "      <td>357.414</td>\n",
       "      <td>312.958</td>\n",
       "      <td>360.940</td>\n",
       "      <td>289.523</td>\n",
       "      <td>372.4490</td>\n",
       "      <td>0.0</td>\n",
       "      <td>0.0</td>\n",
       "      <td>2.333</td>\n",
       "      <td>0</td>\n",
       "    </tr>\n",
       "    <tr>\n",
       "      <th>4</th>\n",
       "      <td>2022-01-01 00:04:00</td>\n",
       "      <td>-6.42125</td>\n",
       "      <td>1.171560</td>\n",
       "      <td>-4.53230</td>\n",
       "      <td>37.5893</td>\n",
       "      <td>0.231726</td>\n",
       "      <td>47.4888</td>\n",
       "      <td>45.3234</td>\n",
       "      <td>54.5404</td>\n",
       "      <td>44.2773</td>\n",
       "      <td>...</td>\n",
       "      <td>382.215</td>\n",
       "      <td>354.552</td>\n",
       "      <td>316.094</td>\n",
       "      <td>365.979</td>\n",
       "      <td>291.441</td>\n",
       "      <td>371.2435</td>\n",
       "      <td>0.0</td>\n",
       "      <td>0.0</td>\n",
       "      <td>2.333</td>\n",
       "      <td>0</td>\n",
       "    </tr>\n",
       "  </tbody>\n",
       "</table>\n",
       "<p>5 rows × 35 columns</p>\n",
       "</div>"
      ],
      "text/plain": [
       "                  time        x         y        z       d0        d1   \n",
       "0  2022-01-01 00:00:00 -6.17170  1.124830 -4.90228  38.0314  0.231726  \\\n",
       "1  2022-01-01 00:01:00 -6.28883  1.233130 -4.79001  38.3868  0.231726   \n",
       "2  2022-01-01 00:02:00 -6.11811  0.871923 -5.12830  37.5636  0.231726   \n",
       "3  2022-01-01 00:03:00 -6.28704  1.249870 -4.76640  38.1094  0.242084   \n",
       "4  2022-01-01 00:04:00 -6.42125  1.171560 -4.53230  37.5893  0.231726   \n",
       "\n",
       "        d2       d3       d4       d5  ...      d21      d22      d23   \n",
       "0  46.0427  44.9743  55.9143  43.7069  ...  394.014  356.120  315.868  \\\n",
       "1  45.5257  46.2587  55.1428  43.2768  ...  394.842  355.196  311.962   \n",
       "2  45.1955  46.8222  55.7484  42.7894  ...  406.183  358.275  313.288   \n",
       "3  46.7083  47.1713  53.5380  42.1558  ...  407.771  357.414  312.958   \n",
       "4  47.4888  45.3234  54.5404  44.2773  ...  382.215  354.552  316.094   \n",
       "\n",
       "       d24      d25       d26  d27  d28  kp_val  geoStorm_01  \n",
       "0  365.553  292.860    0.0000  0.0  0.0   2.333            0  \n",
       "1  361.511  294.536    0.0000  0.0  0.0   2.333            0  \n",
       "2  364.361  293.292  372.4150  0.0  0.0   2.333            0  \n",
       "3  360.940  289.523  372.4490  0.0  0.0   2.333            0  \n",
       "4  365.979  291.441  371.2435  0.0  0.0   2.333            0  \n",
       "\n",
       "[5 rows x 35 columns]"
      ]
     },
     "execution_count": 311,
     "metadata": {},
     "output_type": "execute_result"
    }
   ],
   "source": [
    "data_raw.head()"
   ]
  },
  {
   "cell_type": "code",
   "execution_count": 316,
   "id": "ad0123d3",
   "metadata": {},
   "outputs": [],
   "source": [
    "del data_raw"
   ]
  },
  {
   "cell_type": "markdown",
   "id": "f0e47804",
   "metadata": {},
   "source": [
    "# Start from this part"
   ]
  },
  {
   "cell_type": "code",
   "execution_count": 5,
   "id": "19fb391d",
   "metadata": {},
   "outputs": [],
   "source": [
    "import tensorflow as tf\n",
    "from sklearn.model_selection import train_test_split\n",
    "from keras import layers, models\n",
    "import pandas as pd\n",
    "import numpy as np\n",
    "from sklearn.preprocessing import StandardScaler"
   ]
  },
  {
   "cell_type": "code",
   "execution_count": 97,
   "id": "9a47ebcb",
   "metadata": {
    "collapsed": true
   },
   "outputs": [
    {
     "name": "stdout",
     "output_type": "stream",
     "text": [
      "Model: \"sequential_9\"\n",
      "_________________________________________________________________\n",
      " Layer (type)                Output Shape              Param #   \n",
      "=================================================================\n",
      " dense_48 (Dense)            (None, 128)               4224      \n",
      "                                                                 \n",
      " dense_49 (Dense)            (None, 64)                8256      \n",
      "                                                                 \n",
      " dense_50 (Dense)            (None, 32)                2080      \n",
      "                                                                 \n",
      " dense_51 (Dense)            (None, 1)                 33        \n",
      "                                                                 \n",
      "=================================================================\n",
      "Total params: 14,593\n",
      "Trainable params: 14,593\n",
      "Non-trainable params: 0\n",
      "_________________________________________________________________\n"
     ]
    }
   ],
   "source": [
    "model = models.Sequential()\n",
    "\n",
    "model.add(layers.Input(shape=(32,)))  \n",
    "\n",
    "model.add(layers.Dense(128, activation='relu')) \n",
    "model.add(layers.Dense(64, activation='relu'))  \n",
    "model.add(layers.Dense(32, activation='relu'))\n",
    "\n",
    "model.add(layers.Dense(1, activation='sigmoid'))\n",
    "model.compile(optimizer='adam', loss='binary_crossentropy', metrics=['accuracy'])  \n",
    "model.summary()"
   ]
  },
  {
   "cell_type": "code",
   "execution_count": 98,
   "id": "7ba84886",
   "metadata": {},
   "outputs": [],
   "source": [
    "df22 = pd.read_csv('Astro_2022_new.csv')\n",
    "df21 = pd.read_csv('Astro_2021_new.csv')"
   ]
  },
  {
   "cell_type": "code",
   "execution_count": 99,
   "id": "f4fab85a",
   "metadata": {},
   "outputs": [],
   "source": [
    "df = pd.concat([df22, df21])\n",
    "del df22\n",
    "del df21"
   ]
  },
  {
   "cell_type": "code",
   "execution_count": 79,
   "id": "0d8341b6",
   "metadata": {},
   "outputs": [],
   "source": [
    "from sklearn.utils import resample"
   ]
  },
  {
   "cell_type": "code",
   "execution_count": 100,
   "id": "89a8b101",
   "metadata": {},
   "outputs": [],
   "source": [
    "no = df[df.iloc[:,-1] == 0]\n",
    "yes = df[df.iloc[:,-1] == 1]\n",
    "yes_oversampled = resample(yes, replace=True, n_samples=len(no), random_state=123)"
   ]
  },
  {
   "cell_type": "code",
   "execution_count": 101,
   "id": "bd392cbc",
   "metadata": {},
   "outputs": [],
   "source": [
    "df = pd.concat([no, yes_oversampled])"
   ]
  },
  {
   "cell_type": "code",
   "execution_count": 102,
   "id": "78a24567",
   "metadata": {},
   "outputs": [],
   "source": [
    "num = []\n",
    "for i in range(1, 33):\n",
    "    num.append(i)\n",
    "X = df.iloc[:, num]"
   ]
  },
  {
   "cell_type": "code",
   "execution_count": 103,
   "id": "17811acb",
   "metadata": {},
   "outputs": [],
   "source": [
    "scaler = StandardScaler()\n",
    "scaler.fit(X)\n",
    "standardized_data = scaler.transform(X)\n",
    "# Y = df.iloc[:, -2].values"
   ]
  },
  {
   "cell_type": "code",
   "execution_count": 104,
   "id": "cbf4e8ab",
   "metadata": {},
   "outputs": [],
   "source": [
    "Y = df.iloc[:, -1].values"
   ]
  },
  {
   "cell_type": "code",
   "execution_count": 113,
   "id": "e99255fa",
   "metadata": {},
   "outputs": [
    {
     "data": {
      "text/plain": [
       "{0, 1}"
      ]
     },
     "execution_count": 113,
     "metadata": {},
     "output_type": "execute_result"
    }
   ],
   "source": [
    "set(Y)"
   ]
  },
  {
   "cell_type": "code",
   "execution_count": 106,
   "id": "500f7053",
   "metadata": {},
   "outputs": [
    {
     "name": "stdout",
     "output_type": "stream",
     "text": [
      "Epoch 1/10\n",
      "52062/52062 [==============================] - 69s 1ms/step - loss: 0.0438 - accuracy: 0.9868\n",
      "Epoch 2/10\n",
      "52062/52062 [==============================] - 68s 1ms/step - loss: 0.0214 - accuracy: 0.9944\n",
      "Epoch 3/10\n",
      "52062/52062 [==============================] - 69s 1ms/step - loss: 0.0170 - accuracy: 0.9956\n",
      "Epoch 4/10\n",
      "52062/52062 [==============================] - 68s 1ms/step - loss: 0.0146 - accuracy: 0.9962\n",
      "Epoch 5/10\n",
      "52062/52062 [==============================] - 73s 1ms/step - loss: 0.0131 - accuracy: 0.9967\n",
      "Epoch 6/10\n",
      "52062/52062 [==============================] - 64s 1ms/step - loss: 0.0120 - accuracy: 0.9970\n",
      "Epoch 7/10\n",
      "52062/52062 [==============================] - 63s 1ms/step - loss: 0.0113 - accuracy: 0.9972\n",
      "Epoch 8/10\n",
      "52062/52062 [==============================] - 62s 1ms/step - loss: 0.0105 - accuracy: 0.9974\n",
      "Epoch 9/10\n",
      "52062/52062 [==============================] - 64s 1ms/step - loss: 0.0101 - accuracy: 0.9975\n",
      "Epoch 10/10\n",
      "52062/52062 [==============================] - 67s 1ms/step - loss: 0.0096 - accuracy: 0.9977\n"
     ]
    },
    {
     "data": {
      "text/plain": [
       "<keras.callbacks.History at 0x1d1ff834c50>"
      ]
     },
     "execution_count": 106,
     "metadata": {},
     "output_type": "execute_result"
    }
   ],
   "source": [
    "x_train, x_test, y_train, y_test= train_test_split(standardized_data, Y, test_size= 0.2, random_state=100)\n",
    "\n",
    "model.fit(x_train, y_train, epochs=10)"
   ]
  },
  {
   "cell_type": "code",
   "execution_count": 156,
   "id": "b9184933",
   "metadata": {},
   "outputs": [
    {
     "name": "stdout",
     "output_type": "stream",
     "text": [
      "13016/13016 [==============================] - 9s 721us/step\n"
     ]
    }
   ],
   "source": [
    "y_pred = model.predict(x_test)"
   ]
  },
  {
   "cell_type": "code",
   "execution_count": 108,
   "id": "b3fa162b",
   "metadata": {},
   "outputs": [
    {
     "name": "stdout",
     "output_type": "stream",
     "text": [
      "52062/52062 [==============================] - 37s 712us/step\n"
     ]
    }
   ],
   "source": [
    "y_predd = model.predict(x_train)"
   ]
  },
  {
   "cell_type": "code",
   "execution_count": 115,
   "id": "625c2ee8",
   "metadata": {},
   "outputs": [],
   "source": [
    "# rndclf = RandomForestClassifier(n_estimators = 100, bootstrap = True,).fit(x_train, y_train)"
   ]
  },
  {
   "cell_type": "code",
   "execution_count": 157,
   "id": "a023da32",
   "metadata": {},
   "outputs": [],
   "source": [
    "for i in range(len(y_pred)):\n",
    "    y_pred[i][0]=(y_pred[i][0]>0.523).astype(int)\n",
    "# y_pred[1][0]"
   ]
  },
  {
   "cell_type": "code",
   "execution_count": 140,
   "id": "be49ebf0",
   "metadata": {},
   "outputs": [],
   "source": [
    "from sklearn.metrics import confusion_matrix"
   ]
  },
  {
   "cell_type": "code",
   "execution_count": 158,
   "id": "d9e5d70e",
   "metadata": {},
   "outputs": [
    {
     "name": "stdout",
     "output_type": "stream",
     "text": [
      "[[207241    783]\n",
      " [    59 208413]]\n"
     ]
    }
   ],
   "source": [
    "confusion = confusion_matrix(y_test, y_pred)\n",
    "print(confusion)\n",
    "# [[207233    791] 0.5\n",
    "#  [    59 208413]]\n",
    "# [[207249    775] 0.523\n",
    "#  [   116 208356]]\n",
    "# [[207243    781] 0.533\n",
    "#  [    59 208413]]"
   ]
  },
  {
   "cell_type": "code",
   "execution_count": 58,
   "id": "bab487bc",
   "metadata": {},
   "outputs": [],
   "source": [
    "from sklearn.metrics import mean_squared_error"
   ]
  },
  {
   "cell_type": "code",
   "execution_count": null,
   "id": "4d702654",
   "metadata": {},
   "outputs": [],
   "source": [
    "print(mean_squared_error(y_train, y_predd))\n",
    "mean_squared_error(y_test, y_pred)"
   ]
  },
  {
   "cell_type": "markdown",
   "id": "2a87a8e6",
   "metadata": {},
   "source": [
    "3.4014 1.3623"
   ]
  },
  {
   "cell_type": "code",
   "execution_count": 93,
   "id": "1d82872d",
   "metadata": {},
   "outputs": [],
   "source": [
    "from sklearn.ensemble import RandomForestClassifier"
   ]
  },
  {
   "cell_type": "code",
   "execution_count": 14,
   "id": "f26e7fc5",
   "metadata": {},
   "outputs": [],
   "source": []
  },
  {
   "cell_type": "code",
   "execution_count": null,
   "id": "35a821b2",
   "metadata": {},
   "outputs": [],
   "source": []
  },
  {
   "cell_type": "code",
   "execution_count": 18,
   "id": "a62bfe4a",
   "metadata": {},
   "outputs": [],
   "source": []
  }
 ],
 "metadata": {
  "kernelspec": {
   "display_name": "Python 3 (ipykernel)",
   "language": "python",
   "name": "python3"
  },
  "language_info": {
   "codemirror_mode": {
    "name": "ipython",
    "version": 3
   },
   "file_extension": ".py",
   "mimetype": "text/x-python",
   "name": "python",
   "nbconvert_exporter": "python",
   "pygments_lexer": "ipython3",
   "version": "3.11.3"
  }
 },
 "nbformat": 4,
 "nbformat_minor": 5
}
